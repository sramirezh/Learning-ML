{
    "cells": [
        {
            "cell_type": "markdown",
            "metadata": {},
            "source": [
                "In this lab we're going to do a content-based classification of cities, based on tweets. This is the same case-study we saw in the lecture. "
            ]
        },
        {
            "cell_type": "code",
            "execution_count": null,
            "metadata": {},
            "outputs": [],
            "source": [
                "from text_analytics import text_analytics\n",
                "from text_analytics import load\n",
                "import os\n",
                "import pandas as pd\n",
                "\n",
                "ai_state = load(\"tf-idf.Twitter_by_City\")\n",
                "ai = text_analytics()\n",
                "ai.phrases = ai_state.phrases\n",
                "ai.tfidf_vectorizer = ai_state.tfidf_vectorizer\n",
                "print(\"Done!\")"
            ]
        },
        {
            "cell_type": "markdown",
            "metadata": {},
            "source": [
                "Let's load the tweets that we need for each city."
            ]
        },
        {
            "cell_type": "code",
            "execution_count": null,
            "metadata": {},
            "outputs": [],
            "source": [
                "file = \"Twitter_by_City.gz\"\n",
                "file = os.path.join(ai.data_dir, file)\n",
                "df = pd.read_csv(file, index_col = 0)\n",
                "print(df)\n",
                "print(\"Done!\")"
            ]
        },
        {
            "cell_type": "markdown",
            "metadata": {},
            "source": [
                "Now, our content features are fit to the data in two ways: first, we learn phrases using pointwise mutual information; second, we learn TF-IDF weights by counting words across documents. Both of these steps can take some time. So we have pre-loaded the models we need. But, you can run the code below if you want to do it yourself (remove the comment tag first). You can check out the *text_analytics* package to see this in more detail."
            ]
        },
        {
            "cell_type": "code",
            "execution_count": null,
            "metadata": {},
            "outputs": [],
            "source": [
                "#ai.fit_tfidf()\n",
                "print(\"Done!\")"
            ]
        },
        {
            "cell_type": "markdown",
            "metadata": {},
            "source": [
                "So now we have (1) our data from Twitter and (2) our full content vectorizer (TF-IDF + PMI phrases). We're going to classify these by cities. The basic code is below; this just called our *text_analytics* package. That package splits the data into training and testing data, learns a classifier, and then evaluates the classifier. We're telling the package to use \"City\" as the ground-truth class, with content features."
            ]
        },
        {
            "cell_type": "code",
            "execution_count": null,
            "metadata": {},
            "outputs": [],
            "source": [
                "ai.svm(df, labels = \"City\", features = \"content\")\n",
                "print(\"Done!\")"
            ]
        },
        {
            "cell_type": "markdown",
            "metadata": {},
            "source": [
                "**Be patient**\n",
                "\n",
                "And there we go! We're looking at the classifier accuracy. \n",
                "\n",
                "This will change a bit from the lecture, because we're using random train\/test splits. That means the classifier is looking at different data each time. If you want more advanced examples for how to solve this city classification problem, take a look at the *text_analytics.svm()* function."
            ]
        },
        {
            "cell_type": "code",
            "execution_count": null,
            "metadata": {},
            "outputs": [],
            "source": []
        }
    ],
    "metadata": {
        "kernelspec": {
            "display_name": "Python 3",
            "language": "python",
            "name": "python3"
        },
        "language_info": {
            "codemirror_mode": {
                "name": "ipython",
                "version": 3
            },
            "file_extension": ".py",
            "mimetype": "text\/x-python",
            "name": "python",
            "nbconvert_exporter": "python",
            "pygments_lexer": "ipython3",
            "version": "3.7.7"
        }
    },
    "nbformat": 4,
    "nbformat_minor": 4
}