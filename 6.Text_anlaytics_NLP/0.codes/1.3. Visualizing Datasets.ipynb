{
    "cells": [
        {
            "cell_type": "markdown",
            "metadata": {},
            "source": [
                "Welcome to our second lab!\n",
                "\n",
                "In this lab, we're going to load another data set, and then we'll do some descriptive statistics to find out about the data we're looking at. Let's start by loading our dependencies into the environment."
            ]
        },
        {
            "cell_type": "code",
            "execution_count": null,
            "metadata": {},
            "outputs": [],
            "source": [
                "from text_analytics import text_analytics\n",
                "import os\n",
                "import pandas as pd\n",
                "\n",
                "ai = text_analytics()\n",
                "print(\"Done!\")"
            ]
        },
        {
            "cell_type": "markdown",
            "metadata": {},
            "source": [
                "Now, let's load another data set. This time, we'll work with books from the 19th century, courtesy of Project Gutenberg. So the filename is \"Gutenberg.1850.Authors.gz\" and it contains books that have been cleaned and split into smaller pieces. We'll use these later to study authorship and style."
            ]
        },
        {
            "cell_type": "code",
            "execution_count": null,
            "metadata": {},
            "outputs": [],
            "source": [
                "file = os.path.join(ai.data_dir, \"Gutenberg.1850.Authors.gz\")\n",
                "df = pd.read_csv(file, index_col = 0)\n",
                "print(df)\n",
                "print(\"Done!\")"
            ]
        },
        {
            "cell_type": "markdown",
            "metadata": {},
            "source": [
                "Now, we're going to find out how many samples we have from different authors. So, the code below tells us how many rows in this table are representing each of our authors."
            ]
        },
        {
            "cell_type": "code",
            "execution_count": null,
            "metadata": {},
            "outputs": [],
            "source": [
                "frequencies = ai.print_labels(df, \"Author\")\n",
                "print(\"Done!\")"
            ]
        },
        {
            "cell_type": "markdown",
            "metadata": {},
            "source": [
                "Now, each *sample* is a chapter-size chunk of about 5,000 words. So these authors all wrote a lot of books, and the books all have a bunch of samples. Let's make a figure to visualize this. The first step is to make a dataframe that contains our frequencies. To do this, run the code below."
            ]
        },
        {
            "cell_type": "code",
            "execution_count": null,
            "metadata": {},
            "outputs": [],
            "source": [
                "counts = pd.DataFrame.from_dict(frequencies, orient = \"index\", columns = [\"Frequency\"])\n",
                "print(counts)\n",
                "print(\"Done!\")"
            ]
        },
        {
            "cell_type": "markdown",
            "metadata": {},
            "source": [
                "Now we just use the built-in plotting function from *pandas*"
            ]
        },
        {
            "cell_type": "code",
            "execution_count": null,
            "metadata": {},
            "outputs": [],
            "source": [
                "counts.plot(kind = \"barh\")\n",
                "print(\"Done!\")"
            ]
        },
        {
            "cell_type": "markdown",
            "metadata": {},
            "source": [
                "And that's it! Now we've opened another data set, gotten some basic information about it, and made a simple graph to show us who is the most prolific author!\n",
                "\n",
                "Now it's your turn. Try to use the code above to explore a different data set:\n",
                "\n",
                "    \"Gutenberg.1800.Authors.gz\""
            ]
        },
        {
            "cell_type": "code",
            "execution_count": null,
            "metadata": {},
            "outputs": [],
            "source": []
        }
    ],
    "metadata": {
        "kernelspec": {
            "display_name": "Python 3",
            "language": "python",
            "name": "python3"
        },
        "language_info": {
            "codemirror_mode": {
                "name": "ipython",
                "version": 3
            },
            "file_extension": ".py",
            "mimetype": "text\/x-python",
            "name": "python",
            "nbconvert_exporter": "python",
            "pygments_lexer": "ipython3",
            "version": "3.7.7"
        }
    },
    "nbformat": 4,
    "nbformat_minor": 4
}