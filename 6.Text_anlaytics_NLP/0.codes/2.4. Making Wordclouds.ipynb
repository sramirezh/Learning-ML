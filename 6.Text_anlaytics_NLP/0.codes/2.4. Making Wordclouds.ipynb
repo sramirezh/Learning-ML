{
    "cells": [
        {
            "cell_type": "markdown",
            "metadata": {},
            "source": [
                "In this lab, we'll make wordclouds from the text we've cleaned. This will require bringing together a few tools that we've learned how to use. First, we will need to load a dataset. Second, we will need to clean a text. Third, we will need to convert that text into numbers (frequencies). And, finally, we will use those vectors to build a wordcloud.\n",
                "\n",
                "Let's get started!"
            ]
        },
        {
            "cell_type": "code",
            "execution_count": null,
            "metadata": {},
            "outputs": [],
            "source": [
                "from text_analytics import text_analytics\n",
                "import os\n",
                "import pandas as pd\n",
                "\n",
                "ai = text_analytics()\n",
                "print(\"Done!\")"
            ]
        },
        {
            "cell_type": "code",
            "execution_count": null,
            "metadata": {},
            "outputs": [],
            "source": [
                "file = \"Wordclouds.Business_Insider.gz\"\n",
                "file = os.path.join(ai.data_dir, file)\n",
                "df = pd.read_csv(file, index_col = 0)\n",
                "print(df)"
            ]
        },
        {
            "cell_type": "markdown",
            "metadata": {},
            "source": [
                "So now we have the data in memory. Let's inspect a random article."
            ]
        },
        {
            "cell_type": "code",
            "execution_count": null,
            "metadata": {},
            "outputs": [],
            "source": [
                "ai.print_sample(df)\n",
                "print(\"Done!\")"
            ]
        },
        {
            "cell_type": "markdown",
            "metadata": {},
            "source": [
                "And now we'll make a wordcloud. Here we're calling the *text_analytics* package to do it for us. If you want to dig deeper, take a look at the *wordclouds* function that we're calling."
            ]
        },
        {
            "cell_type": "code",
            "execution_count": null,
            "metadata": {},
            "outputs": [],
            "source": [
                "ai.wordclouds(df, stage = 4, features = \"frequency\")\n",
                "print(\"Done!\")"
            ]
        },
        {
            "cell_type": "markdown",
            "metadata": {},
            "source": [
                "This takes a bit because we have to make the vocabulary and count each word. So be patient!"
            ]
        },
        {
            "cell_type": "markdown",
            "metadata": {},
            "source": [
                "Try to play around with this a bit. Can you use *groupby* to make wordclouds for each year?\n",
                "\n",
                "The function takes a *stage* parameter that controls how much pre-processing takes place. Here are the values you can use:\n",
                "\n",
                "0 = just split into words\n",
                "\n",
                "1 = remove stop words\n",
                "\n",
                "2 = lowercase\n",
                "\n",
                "3 = remove punctuation\n",
                "\n",
                "4 = remove non-linguistic material\n",
                "\n",
                "Have fun!"
            ]
        },
        {
            "cell_type": "code",
            "execution_count": null,
            "metadata": {},
            "outputs": [],
            "source": []
        }
    ],
    "metadata": {
        "kernelspec": {
            "display_name": "Python 3",
            "language": "python",
            "name": "python3"
        },
        "language_info": {
            "codemirror_mode": {
                "name": "ipython",
                "version": 3
            },
            "file_extension": ".py",
            "mimetype": "text\/x-python",
            "name": "python",
            "nbconvert_exporter": "python",
            "pygments_lexer": "ipython3",
            "version": "3.7.7"
        }
    },
    "nbformat": 4,
    "nbformat_minor": 4
}