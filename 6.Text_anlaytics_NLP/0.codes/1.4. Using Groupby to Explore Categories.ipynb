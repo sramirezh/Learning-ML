{
    "cells": [
        {
            "cell_type": "markdown",
            "metadata": {},
            "source": [
                "In this lab, we are going to further explore categories in our dataset. We're going to do this by looking at one category or class at a time. So, we're going to look at news article. But instead of seeing them all at once, we're going to look at one year at a time.\n",
                "\n",
                "We start by loading our environment."
            ]
        },
        {
            "cell_type": "code",
            "execution_count": null,
            "metadata": {},
            "outputs": [],
            "source": [
                "from text_analytics import text_analytics\n",
                "import os\n",
                "import pandas as pd\n",
                "\n",
                "ai = text_analytics()\n",
                "print(\"Done!\")"
            ]
        },
        {
            "cell_type": "markdown",
            "metadata": {},
            "source": [
                "Now we're going to load our data. This time it will be articles from *Politico*."
            ]
        },
        {
            "cell_type": "code",
            "execution_count": null,
            "metadata": {},
            "outputs": [],
            "source": [
                "file = os.path.join(ai.data_dir, \"Wordclouds.Politico.gz\")\n",
                "df = pd.read_csv(file, index_col = 0)\n",
                "print(df)"
            ]
        },
        {
            "cell_type": "markdown",
            "metadata": {},
            "source": [
                "So, here is how we look at one category at a time: using *groupby*."
            ]
        },
        {
            "cell_type": "code",
            "execution_count": null,
            "metadata": {},
            "outputs": [],
            "source": [
                "for year, year_df in df.groupby(\"Year\"):\n",
                "        print(year, \": \", len(year_df))\n",
                "        \n",
                "print(\"Done!\")"
            ]
        },
        {
            "cell_type": "markdown",
            "metadata": {},
            "source": [
                "This code shows us the number of articles per year that the dataset has. This is one way of iterating over the data. Except that instead of iterating over individual articles we are iterating over categories of articles.\n",
                "\n",
                "Let's turn this into a graph now."
            ]
        },
        {
            "cell_type": "code",
            "execution_count": null,
            "metadata": {},
            "outputs": [],
            "source": [
                "years = []\n",
                "for year, year_df in df.groupby(\"Year\"):\n",
                "        years.append([year, len(year_df)])\n",
                "\n",
                "years = pd.DataFrame(years, columns = [\"Year\", \"N.\"])\n",
                "years.set_index(\"Year\", drop = True, inplace = True)\n",
                "print(years)\n",
                "print(\"Done!\")"
            ]
        },
        {
            "cell_type": "code",
            "execution_count": null,
            "metadata": {},
            "outputs": [],
            "source": [
                "years.plot(kind = \"barh\")\n",
                "print(\"Done!\")"
            ]
        },
        {
            "cell_type": "markdown",
            "metadata": {},
            "source": [
                "That's all for this lab! Today we learned how to iterate over a data set by category.\n",
                "\n",
                "Now it's your turn. Use the code block below and the examples above to do the same analysis for a different file:\n",
                "\n",
                "    \"Wordclouds.Business_Insider.gz\""
            ]
        },
        {
            "cell_type": "code",
            "execution_count": null,
            "metadata": {},
            "outputs": [],
            "source": []
        }
    ],
    "metadata": {
        "kernelspec": {
            "display_name": "Python 3",
            "language": "python",
            "name": "python3"
        },
        "language_info": {
            "codemirror_mode": {
                "name": "ipython",
                "version": 3
            },
            "file_extension": ".py",
            "mimetype": "text\/x-python",
            "name": "python",
            "nbconvert_exporter": "python",
            "pygments_lexer": "ipython3",
            "version": "3.7.7"
        }
    },
    "nbformat": 4,
    "nbformat_minor": 4
}