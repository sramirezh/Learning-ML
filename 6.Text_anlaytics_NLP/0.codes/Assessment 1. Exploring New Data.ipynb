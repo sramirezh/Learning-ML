{
    "cells": [
        {
            "cell_type": "markdown",
            "metadata": {},
            "source": [
                "Now let's put you to the test. In this lab, use the code examples that you've learned so far to explore a new dataset.\n",
                "\n",
                "I want you to open the file: \"Gutenberg.1800.Authors.gz\". Then, find out how many authors are represented in this data and how many samples there are from each one."
            ]
        },
        {
            "cell_type": "markdown",
            "metadata": {},
            "source": [
                "To do this, you'll probably want to take the following steps:\n",
                "\n",
                "    (1) Import dependencies, like text_analytics\n",
                "    (2) Open the file using pd.read_csv (pandas)\n",
                "    (3) Find out how many samples there are from each author\n",
                "    (4) Display this information\n",
                "    (5) If you want to go the extra mile, make a bar chart to show this information\n",
                "    \n",
                " Good luck!"
            ]
        },
        {
            "cell_type": "code",
            "execution_count": null,
            "metadata": {},
            "outputs": [],
            "source": []
        }
    ],
    "metadata": {
        "kernelspec": {
            "display_name": "Python 3",
            "language": "python",
            "name": "python3"
        },
        "language_info": {
            "codemirror_mode": {
                "name": "ipython",
                "version": 3
            },
            "file_extension": ".py",
            "mimetype": "text\/x-python",
            "name": "python",
            "nbconvert_exporter": "python",
            "pygments_lexer": "ipython3",
            "version": "3.8.3"
        }
    },
    "nbformat": 4,
    "nbformat_minor": 4
}