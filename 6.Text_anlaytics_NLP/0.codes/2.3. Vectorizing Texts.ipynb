{
    "cells": [
        {
            "cell_type": "markdown",
            "metadata": {},
            "source": [
                "In this lab, we'll be looking at how to turn a text into numbers. A numeric representation like this is called a *vector*. And so the process of turning language into numbers is called vectorizing. We'll start, as always, by loading our environment."
            ]
        },
        {
            "cell_type": "code",
            "execution_count": null,
            "metadata": {},
            "outputs": [],
            "source": [
                "from text_analytics import text_analytics\n",
                "from sklearn.feature_extraction.text import CountVectorizer\n",
                "import os\n",
                "import pandas as pd\n",
                "\n",
                "ai = text_analytics()\n",
                "print(\"Done!\")"
            ]
        },
        {
            "cell_type": "markdown",
            "metadata": {},
            "source": [
                "We'll work with articles about corruption, like last time."
            ]
        },
        {
            "cell_type": "code",
            "execution_count": null,
            "metadata": {},
            "outputs": [],
            "source": [
                "file = \"NYT.Corruption.gz\"\n",
                "file = os.path.join(ai.data_dir, file)\n",
                "df = pd.read_csv(file, index_col = 0)\n",
                "print(df)\n",
                "print(\"Done!\")"
            ]
        },
        {
            "cell_type": "markdown",
            "metadata": {},
            "source": [
                "So, here we are going to run some code to initialize the vectorizer. We're using one from *scikit-learn*. And initializing means that we're creating the class, before we use it."
            ]
        },
        {
            "cell_type": "code",
            "execution_count": null,
            "metadata": {},
            "outputs": [],
            "source": [
                "vectorizer = CountVectorizer(\n",
                "    input = \"content\", \n",
                "    preprocessor = ai.clean_pre,\n",
                "    analyzer = \"word\",\n",
                "    )\n",
                "\n",
                "print(\"Done!\")"
            ]
        },
        {
            "cell_type": "markdown",
            "metadata": {},
            "source": [
                "Now, we'll go ahead and use it."
            ]
        },
        {
            "cell_type": "code",
            "execution_count": null,
            "metadata": {},
            "outputs": [],
            "source": [
                "line = ai.print_sample(df)\n",
                "vector = vectorizer.fit_transform([line])\n",
                "print(vector)\n",
                "print(\"Done!\")"
            ]
        },
        {
            "cell_type": "markdown",
            "metadata": {},
            "source": [
                "So, the first thing we've displayed is the string. And the second thing we've displayed is the vectorized or numeric version of that string.\n",
                "\n",
                "This is currently in a *sparse* format, so that not every element has to be displayed. We'll show the full version, though."
            ]
        },
        {
            "cell_type": "code",
            "execution_count": null,
            "metadata": {},
            "outputs": [],
            "source": [
                "line = ai.print_sample(df)\n",
                "vector = vectorizer.fit_transform([line]).todense()\n",
                "print(vector)\n",
                "print(\"Done!\")"
            ]
        },
        {
            "cell_type": "markdown",
            "metadata": {},
            "source": [
                "Let's finish up by making this into a nice dataframe."
            ]
        },
        {
            "cell_type": "code",
            "execution_count": null,
            "metadata": {},
            "outputs": [],
            "source": [
                "line = ai.print_sample(df)\n",
                "vector = vectorizer.fit_transform([line])\n",
                "vector = ai.print_vector(vector, vectorizer)\n",
                "print(vector)\n",
                "print(\"Done!\")"
            ]
        },
        {
            "cell_type": "markdown",
            "metadata": {},
            "source": [
                "Some of this code is a bit dense, but try out a few sentences. The point is that this transforms each sentence in a list of numbers. And tells us what each number in that vector corresponds to. So, in this lab we've taken a first look at how to vectorize our texts.\n",
                "\n",
                "Try it out yourself: use the code block below to make some vectors from this file:\n",
                "    \n",
                "    \"Gutenberg.1850.Authors.gz\""
            ]
        },
        {
            "cell_type": "code",
            "execution_count": null,
            "metadata": {},
            "outputs": [],
            "source": []
        }
    ],
    "metadata": {
        "kernelspec": {
            "display_name": "Python 3",
            "language": "python",
            "name": "python3"
        },
        "language_info": {
            "codemirror_mode": {
                "name": "ipython",
                "version": 3
            },
            "file_extension": ".py",
            "mimetype": "text\/x-python",
            "name": "python",
            "nbconvert_exporter": "python",
            "pygments_lexer": "ipython3",
            "version": "3.7.7"
        }
    },
    "nbformat": 4,
    "nbformat_minor": 4
}