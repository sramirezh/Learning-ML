{
 "cells": [
  {
   "cell_type": "markdown",
   "metadata": {},
   "source": [
    "In this lab, we are going to further explore categories in our dataset. We're going to do this by looking at one category or class at a time. So, we're going to look at news article. But instead of seeing them all at once, we're going to look at one year at a time.\n",
    "\n",
    "We start by loading our environment."
   ]
  },
  {
   "cell_type": "code",
   "execution_count": 1,
   "metadata": {},
   "outputs": [
    {
     "name": "stdout",
     "output_type": "stream",
     "text": [
      "Done!\n"
     ]
    }
   ],
   "source": [
    "from text_analytics import text_analytics\n",
    "import os\n",
    "import pandas as pd\n",
    "\n",
    "ai = text_analytics()\n",
    "print(\"Done!\")"
   ]
  },
  {
   "cell_type": "markdown",
   "metadata": {},
   "source": [
    "Now we're going to load our data. This time it will be articles from *Politico*."
   ]
  },
  {
   "cell_type": "code",
   "execution_count": 2,
   "metadata": {},
   "outputs": [
    {
     "name": "stdout",
     "output_type": "stream",
     "text": [
      "         index  Year Publication  \\\n",
      "0      1865123  2016    Politico   \n",
      "1      1865124  2017    Politico   \n",
      "2      1865125  2016    Politico   \n",
      "3      1865126  2017    Politico   \n",
      "4      1865127  2016    Politico   \n",
      "...        ...   ...         ...   \n",
      "46372  2658101  2020    Politico   \n",
      "46373  2658102  2020    Politico   \n",
      "46374  2658103  2020    Politico   \n",
      "46375  2658104  2020    Politico   \n",
      "46376  2658105  2020    Politico   \n",
      "\n",
      "                                                   Title  \\\n",
      "0      Philippine President Duterte announces separat...   \n",
      "1                          Obama to campaign for Northam   \n",
      "2      Lincoln reveals plan to free slaves, July 22, ...   \n",
      "3                                       Weekend Weddings   \n",
      "4      White House says it got no advance notice of F...   \n",
      "...                                                  ...   \n",
      "46372  Many states are ill-prepared for unemployment ...   \n",
      "46373  Anxiety grows in Capitol as lawmakers weigh re...   \n",
      "46374  'Bad advice from the president': Trump touts u...   \n",
      "46375          Trump drops his coronavirus media detente   \n",
      "46376  Justin Trudeau: Working from home just like th...   \n",
      "\n",
      "                                                    Text  \n",
      "0      Philippine President Rodrigo Duterte declared ...  \n",
      "1      Former President Barack Obama will campaign fo...  \n",
      "2      On this day in 1862, in the second year of the...  \n",
      "3      WEEKEND WEDDINGS – POOL REPORT from HADAS GOLD...  \n",
      "4      The White House was in the dark about FBI Dire...  \n",
      "...                                                  ...  \n",
      "46372  A decade of sharp cuts to state unemployment p...  \n",
      "46373  As Congress drafts one of the biggest pieces o...  \n",
      "46374  President Donald Trump said he will \"slash red...  \n",
      "46375  Donald Trump’s cease-fire with the press was s...  \n",
      "46376  OTTAWA — Justin Trudeau’s week will one day fi...  \n",
      "\n",
      "[46377 rows x 5 columns]\n"
     ]
    }
   ],
   "source": [
    "file = os.path.join(ai.data_dir, \"Wordclouds.Politico.gz\")\n",
    "df = pd.read_csv(file, index_col = 0)\n",
    "print(df)"
   ]
  },
  {
   "cell_type": "markdown",
   "metadata": {},
   "source": [
    "So, here is how we look at one category at a time: using *groupby*."
   ]
  },
  {
   "cell_type": "code",
   "execution_count": 3,
   "metadata": {},
   "outputs": [
    {
     "name": "stdout",
     "output_type": "stream",
     "text": [
      "2016 :  12234\n",
      "2017 :  12105\n",
      "2018 :  9983\n",
      "2019 :  9586\n",
      "2020 :  2469\n",
      "Done!\n"
     ]
    }
   ],
   "source": [
    "for year, year_df in df.groupby(\"Year\"):\n",
    "        print(year, \": \", len(year_df))\n",
    "        \n",
    "print(\"Done!\")"
   ]
  },
  {
   "cell_type": "markdown",
   "metadata": {},
   "source": [
    "This code shows us the number of articles per year that the dataset has. This is one way of iterating over the data. Except that instead of iterating over individual articles we are iterating over categories of articles.\n",
    "\n",
    "Let's turn this into a graph now."
   ]
  },
  {
   "cell_type": "code",
   "execution_count": 4,
   "metadata": {},
   "outputs": [
    {
     "name": "stdout",
     "output_type": "stream",
     "text": [
      "         N.\n",
      "Year       \n",
      "2016  12234\n",
      "2017  12105\n",
      "2018   9983\n",
      "2019   9586\n",
      "2020   2469\n",
      "Done!\n"
     ]
    }
   ],
   "source": [
    "years = []\n",
    "for year, year_df in df.groupby(\"Year\"):\n",
    "        years.append([year, len(year_df)])\n",
    "\n",
    "years = pd.DataFrame(years, columns = [\"Year\", \"N.\"])\n",
    "years.set_index(\"Year\", drop = True, inplace = True)\n",
    "print(years)\n",
    "print(\"Done!\")"
   ]
  },
  {
   "cell_type": "code",
   "execution_count": 5,
   "metadata": {},
   "outputs": [
    {
     "name": "stdout",
     "output_type": "stream",
     "text": [
      "Done!\n"
     ]
    },
    {
     "data": {
      "image/png": "[encoded data removed]",
      "text/plain": [
       "<Figure size 432x288 with 1 Axes>"
      ]
     },
     "metadata": {
      "needs_background": "light"
     },
     "output_type": "display_data"
    }
   ],
   "source": [
    "years.plot(kind = \"barh\")\n",
    "print(\"Done!\")"
   ]
  },
  {
   "cell_type": "markdown",
   "metadata": {},
   "source": [
    "That's all for this lab! Today we learned how to iterate over a data set by category.\n",
    "\n",
    "Now it's your turn. Use the code block below and the examples above to do the same analysis for a different file:\n",
    "\n",
    "    \"Wordclouds.Business_Insider.gz\""
   ]
  },
  {
   "cell_type": "code",
   "execution_count": null,
   "metadata": {
    "collapsed": true
   },
   "outputs": [],
   "source": []
  }
 ],
 "metadata": {
  "kernelspec": {
   "display_name": "Python 3.7",
   "language": "python",
   "name": "python3"
  },
  "language_info": {
   "codemirror_mode": {
    "name": "ipython",
    "version": 3
   },
   "file_extension": ".py",
   "mimetype": "text/x-python",
   "name": "python",
   "nbconvert_exporter": "python",
   "pygments_lexer": "ipython3",
   "version": "3.7.5"
  }
 },
 "nbformat": 4,
 "nbformat_minor": 4
}
