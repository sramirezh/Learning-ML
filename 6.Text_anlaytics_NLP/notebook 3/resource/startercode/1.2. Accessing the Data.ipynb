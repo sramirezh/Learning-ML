{
    "cells": [
        {
            "cell_type": "markdown",
            "metadata": {},
            "source": [
                "# How to Access the Labs and Data"
            ]
        },
        {
            "cell_type": "markdown",
            "metadata": {},
            "source": [
                "Welcome to our first lab!\n",
                "\n",
                "These labs are going to show you how to use text analytics to do the kinds of analysis that we're talking about in the lectures. Even beginners can go through these labs to see computational linguistics in action. If you're not a beginner and you want more detail, check out the *text_analytics* package that we're using: [https:\/\/github.com\/jonathandunn\/text_analytics](https:\/\/github.com\/jonathandunn\/text_analytics). You can use the package as a source for code snippets. But you can also install the package via pip in order to use it directly:\n",
                "\n",
                "        pip install git+https:\/\/github.com\/jonathandunn\/text_analytics.git\n",
                "\n",
                "We're going to start by loading our dependencies. That just means that we start up all the packages that we'll need in order to do the lab. This is how we'll start each and every lab. \n",
                "\n",
                "So, start by **running** the line below. Click on the box and then press the \"Run\" button. (It has an icon that looks like your typical \"play\" icon). You'll notice, if you look at the top-right corner of the screen, that there is an empty circle next to \"Python 3\". When the code is running, that circle will be filled in. So, always wait until the code finishes before moving on. We'll also have the code print something out every time it finishes."
            ]
        },
        {
            "cell_type": "code",
            "execution_count": null,
            "metadata": {},
            "outputs": [],
            "source": [
                "from text_analytics import text_analytics\n",
                "import os\n",
                "import pandas as pd\n",
                "print(\"Done!\")"
            ]
        },
        {
            "cell_type": "markdown",
            "metadata": {},
            "source": [
                "Excellent! Now we have our environment set-up. So, let's load our package now that we've imported it. Here we're telling python that the name *ai* refers to the *text_analytics* package."
            ]
        },
        {
            "cell_type": "code",
            "execution_count": null,
            "metadata": {},
            "outputs": [],
            "source": [
                "ai = text_analytics()\n",
                "print(\"Done!\")"
            ]
        },
        {
            "cell_type": "markdown",
            "metadata": {},
            "source": [
                "In these labs we'll be using this *text_analytics* package to do our analysis. This makes it easier for those who don't have as much experience in Python. But, if you are comfortable with Python, the *text_analytics* package also provides examples for how to do everything that we cover in this course."
            ]
        },
        {
            "cell_type": "markdown",
            "metadata": {},
            "source": [
                "Now that we've loaded everything we need, let's open the data. Run the line below to set the location of our data. The filename is \"Wordclouds.Business_Insider.gz\" and this first line gives us the path to where we've stored the data. That path doesn't mean anything to you, but it tells the code notebook where to look. Then, we use the *pandas* package to open the data."
            ]
        },
        {
            "cell_type": "code",
            "execution_count": null,
            "metadata": {},
            "outputs": [],
            "source": [
                "file = os.path.join(ai.data_dir, \"Wordclouds.Business_Insider.gz\")\n",
                "df = pd.read_csv(file, index_col = 0)\n",
                "print(df)\n",
                "print(\"Done!\")"
            ]
        },
        {
            "cell_type": "markdown",
            "metadata": {},
            "source": [
                "This will take a minute to run. Because it's a pretty large file. We're looking at articles from *Business Insider*. The different columns give us information about each article, like what year it was published. And the \"Text\" column gives us the actual data from each sample. Let's take a look at a random selection."
            ]
        },
        {
            "cell_type": "code",
            "execution_count": null,
            "metadata": {},
            "outputs": [],
            "source": [
                "ai.print_sample(df)\n",
                "print(\"Done!\")"
            ]
        },
        {
            "cell_type": "markdown",
            "metadata": {},
            "source": [
                "You'll probably notice how messy this looks! That's because we haven't done any cleaning or pre-processing."
            ]
        },
        {
            "cell_type": "markdown",
            "metadata": {},
            "source": [
                "And that's it for our first lab! Today we loaded our dependencies into the environment, created an instance of our *text_analytics* package, and looked at one dataset. Our labs in this course are going to be short and simple like this. You can always play around with the data by changing the code that is written in the cells. In fact, that's a great way to learn how it all works. And, remember, you can always get more details by looking at the *text_analytics* package directly.\n",
                "\n",
                "Now it's your turn. Use the code box below to load a different data set and print some samples from it: \n",
                "\n",
                "    \"Wordclouds.TechCrunch.gz\""
            ]
        },
        {
            "cell_type": "code",
            "execution_count": null,
            "metadata": {},
            "outputs": [],
            "source": []
        }
    ],
    "metadata": {
        "kernelspec": {
            "display_name": "Python 3",
            "language": "python",
            "name": "python3"
        },
        "language_info": {
            "codemirror_mode": {
                "name": "ipython",
                "version": 3
            },
            "file_extension": ".py",
            "mimetype": "text\/x-python",
            "name": "python",
            "nbconvert_exporter": "python",
            "pygments_lexer": "ipython3",
            "version": "3.7.7"
        }
    },
    "nbformat": 4,
    "nbformat_minor": 4
}