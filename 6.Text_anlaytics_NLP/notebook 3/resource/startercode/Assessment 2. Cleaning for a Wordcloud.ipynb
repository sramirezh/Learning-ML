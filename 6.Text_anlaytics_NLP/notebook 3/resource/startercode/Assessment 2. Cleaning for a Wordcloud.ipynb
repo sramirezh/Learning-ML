{
    "cells": [
        {
            "cell_type": "markdown",
            "metadata": {},
            "source": [
                "It's time to test your skills again. In this lab, use the code examples that you've learned in this module to load a new data set. Then, clean it and make a wordcloud.\n",
                "\n",
                "I want you to open the file: \"Hotels_As_Text_NZ.gz\". Then, clean the data as much as possible and make a wordcloud based on frequency information."
            ]
        },
        {
            "cell_type": "markdown",
            "metadata": {},
            "source": [
                "To do this, you'll probably want to take the following steps:\n",
                "\n",
                "    (1) Import dependencies, like text_analytics\n",
                "    (2) Open the file using pd.read_csv (pandas)\n",
                "    (3) Use text_analytics.wordclouds to clean and make the wordcloud\n",
                "    (4) If you want to go the extra mile, make a series of wordclouds to show each cleaning step\n",
                "    \n",
                " Good luck!"
            ]
        },
        {
            "cell_type": "code",
            "execution_count": null,
            "metadata": {},
            "outputs": [],
            "source": []
        }
    ],
    "metadata": {
        "kernelspec": {
            "display_name": "Python 3",
            "language": "python",
            "name": "python3"
        },
        "language_info": {
            "codemirror_mode": {
                "name": "ipython",
                "version": 3
            },
            "file_extension": ".py",
            "mimetype": "text\/x-python",
            "name": "python",
            "nbconvert_exporter": "python",
            "pygments_lexer": "ipython3",
            "version": "3.8.3"
        }
    },
    "nbformat": 4,
    "nbformat_minor": 4
}