{
    "cells": [
        {
            "cell_type": "markdown",
            "metadata": {},
            "source": [
                "Today we're going to look at x and y arrays, something that we'll need for training our text classifiers later.\n",
                "\n",
                "Basically, for our dataset we have two essential pieces of information: First, the texts that we're working with. Second, the category that each text belongs to. We call our data that we use (texts) the *x array*. And we call the list of labels that each belongs to the *y array*. For example, in *scikit-learn* the convention is to talk about X and y. This just means the language and the labels!"
            ]
        },
        {
            "cell_type": "code",
            "execution_count": null,
            "metadata": {},
            "outputs": [],
            "source": [
                "from text_analytics import text_analytics\n",
                "import os\n",
                "import pandas as pd\n",
                "\n",
                "ai = text_analytics()\n",
                "print(\"Done!\")"
            ]
        },
        {
            "cell_type": "markdown",
            "metadata": {},
            "source": [
                "This time we're going to work with tweets that represent different cities around the world. So we first load this data into memory."
            ]
        },
        {
            "cell_type": "code",
            "execution_count": null,
            "metadata": {},
            "outputs": [],
            "source": [
                "file = os.path.join(ai.data_dir, \"Twitter_by_City.gz\")\n",
                "df = pd.read_csv(file, index_col = 0)\n",
                "print(df)\n",
                "print(\"Done!\")"
            ]
        },
        {
            "cell_type": "markdown",
            "metadata": {},
            "source": [
                "Ok, so now we have our data. Instead of a full table or dataframe like this, we want to separate arrays."
            ]
        },
        {
            "cell_type": "code",
            "execution_count": null,
            "metadata": {},
            "outputs": [],
            "source": [
                "x = df.loc[:,\"Text\"]\n",
                "y = df.loc[:,\"City\"]\n",
                "print(\"Done!\")"
            ]
        },
        {
            "cell_type": "markdown",
            "metadata": {},
            "source": [
                "So, later, when we use *scikit-learn* or *tensorflow* to build models, we can use this syntax to get our respective x and y arrays. Let's see what they look like."
            ]
        },
        {
            "cell_type": "code",
            "execution_count": null,
            "metadata": {},
            "outputs": [],
            "source": [
                "print(x)\n",
                "print(y)\n",
                "print(\"Done!\")"
            ]
        },
        {
            "cell_type": "markdown",
            "metadata": {},
            "source": [
                "You'll notice that each array is the same length: 373,128 items. Each item here is actually an aggregation of about 25 tweets. That gives us more data per sample, which is a lot easier to work with.\n",
                "\n",
                "And that's all for today! Here we've learned how to make separate arrays that represent our data and our meta-data.\n",
                "\n",
                "Try to use the code block below to x and y arrays for a new data set, this time using \"Author\" as the label:\n",
                "\n",
                "    \"Gutenberg.1850.Authors.gz\""
            ]
        },
        {
            "cell_type": "code",
            "execution_count": null,
            "metadata": {},
            "outputs": [],
            "source": []
        }
    ],
    "metadata": {
        "kernelspec": {
            "display_name": "Python 3",
            "language": "python",
            "name": "python3"
        },
        "language_info": {
            "codemirror_mode": {
                "name": "ipython",
                "version": 3
            },
            "file_extension": ".py",
            "mimetype": "text\/x-python",
            "name": "python",
            "nbconvert_exporter": "python",
            "pygments_lexer": "ipython3",
            "version": "3.7.7"
        }
    },
    "nbformat": 4,
    "nbformat_minor": 4
}