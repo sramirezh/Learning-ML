{
    "cells": [
        {
            "cell_type": "markdown",
            "metadata": {},
            "source": [
                "In this lab, we are going to practice *iterating* over our data. This is where we look at the data one bit at a time. We're going to look at three different files. For each file, we're going to look at the data one year at a time. And then we'll make a figure.\n",
                "\n",
                "Let's get started!"
            ]
        },
        {
            "cell_type": "code",
            "execution_count": null,
            "metadata": {},
            "outputs": [],
            "source": [
                "from text_analytics import text_analytics\n",
                "import os\n",
                "import pandas as pd\n",
                "import seaborn as sns\n",
                "from matplotlib import pyplot as plt\n",
                "\n",
                "\n",
                "ai = text_analytics()\n",
                "print(\"Done!\")"
            ]
        },
        {
            "cell_type": "markdown",
            "metadata": {},
            "source": [
                "Now we have three sets of articles to look at, from *Business Insider* and *Politico* and *TechCrunch*. So here we define a list of filenames, and then we open each file in the list.\n",
                "\n",
                "Once we've opened each file, we use groupby to look at each year on its own."
            ]
        },
        {
            "cell_type": "code",
            "execution_count": null,
            "metadata": {},
            "outputs": [],
            "source": [
                "files = [\"Wordclouds.Business_Insider.gz\", \"Wordclouds.Politico.gz\", \"Wordclouds.TechCrunch.gz\"]\n",
                "for file in files:\n",
                "    name = file\n",
                "    file = os.path.join(ai.data_dir, file)\n",
                "    df = pd.read_csv(file, index_col = 0)\n",
                "\n",
                "    for year, year_df in df.groupby(\"Year\"):\n",
                "        print(name, year, len(year_df))\n",
                "        \n",
                "print(\"Done!\")"
            ]
        },
        {
            "cell_type": "markdown",
            "metadata": {},
            "source": [
                "It takes a few minutes to read through each of these files (most of that time is spent loading them into memory). But this code lets us iterate through a year-by-year census. Now, let's do it again, but this time we'll save the results and make a figure."
            ]
        },
        {
            "cell_type": "code",
            "execution_count": null,
            "metadata": {},
            "outputs": [],
            "source": [
                "files = [\"Wordclouds.Business_Insider.gz\", \"Wordclouds.Politico.gz\", \"Wordclouds.TechCrunch.gz\"]\n",
                "counts = []\n",
                "for file in files:\n",
                "    name = file.replace(\"Wordclouds.\",\"\").replace(\".gz\",\"\")\n",
                "    file = os.path.join(ai.data_dir, file)\n",
                "    df = pd.read_csv(file, index_col = 0)\n",
                "\n",
                "    for year, year_df in df.groupby(\"Year\"):\n",
                "        counts.append([name, year, len(year_df)])\n",
                "        \n",
                "counts = pd.DataFrame(counts, columns = [\"Dataset\", \"Year\", \"N. Articles\"])\n",
                "print(counts)\n",
                "print(\"Done!\")"
            ]
        },
        {
            "cell_type": "markdown",
            "metadata": {},
            "source": [
                "So that table gives us the results. And now we just plot it. This time we'll use the *seaborn* package rather than the native *pandas* plotting."
            ]
        },
        {
            "cell_type": "code",
            "execution_count": null,
            "metadata": {},
            "outputs": [],
            "source": [
                "sns.barplot(x = \"Dataset\", y = \"N. Articles\", hue = \"Year\", data = counts)\n",
                "plt.show()\n",
                "print(\"Done!\")"
            ]
        },
        {
            "cell_type": "markdown",
            "metadata": {},
            "source": [
                "And that's all for this lab! We've seen that we can iterate over files and categories in order to survey our data."
            ]
        },
        {
            "cell_type": "code",
            "execution_count": null,
            "metadata": {},
            "outputs": [],
            "source": []
        }
    ],
    "metadata": {
        "kernelspec": {
            "display_name": "Python 3",
            "language": "python",
            "name": "python3"
        },
        "language_info": {
            "codemirror_mode": {
                "name": "ipython",
                "version": 3
            },
            "file_extension": ".py",
            "mimetype": "text\/x-python",
            "name": "python",
            "nbconvert_exporter": "python",
            "pygments_lexer": "ipython3",
            "version": "3.7.7"
        }
    },
    "nbformat": 4,
    "nbformat_minor": 4
}