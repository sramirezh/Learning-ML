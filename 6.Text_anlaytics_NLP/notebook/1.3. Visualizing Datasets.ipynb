{
 "cells": [
  {
   "cell_type": "markdown",
   "metadata": {},
   "source": [
    "Welcome to our second lab!\n",
    "\n",
    "In this lab, we're going to load another data set, and then we'll do some descriptive statistics to find out about the data we're looking at. Let's start by loading our dependencies into the environment."
   ]
  },
  {
   "cell_type": "code",
   "execution_count": 1,
   "metadata": {},
   "outputs": [
    {
     "name": "stderr",
     "output_type": "stream",
     "text": [
      "Matplotlib is building the font cache; this may take a moment.\n"
     ]
    },
    {
     "name": "stdout",
     "output_type": "stream",
     "text": [
      "Done!\n"
     ]
    }
   ],
   "source": [
    "from text_analytics import text_analytics\n",
    "import os\n",
    "import pandas as pd\n",
    "\n",
    "ai = text_analytics()\n",
    "print(\"Done!\")"
   ]
  },
  {
   "cell_type": "markdown",
   "metadata": {},
   "source": [
    "Now, let's load another data set. This time, we'll work with books from the 19th century, courtesy of Project Gutenberg. So the filename is \"Gutenberg.1850.Authors.gz\" and it contains books that have been cleaned and split into smaller pieces. We'll use these later to study authorship and style."
   ]
  },
  {
   "cell_type": "code",
   "execution_count": 2,
   "metadata": {},
   "outputs": [
    {
     "name": "stdout",
     "output_type": "stream",
     "text": [
      "        index  Generation    Author                Title  \\\n",
      "0         150        1850  abbott_j  alexander_the_great   \n",
      "1         151        1850  abbott_j  alexander_the_great   \n",
      "2         152        1850  abbott_j  alexander_the_great   \n",
      "3         153        1850  abbott_j  alexander_the_great   \n",
      "4         154        1850  abbott_j  alexander_the_great   \n",
      "...       ...         ...       ...                  ...   \n",
      "17042  125483        1850    wood_h       victor_serenus   \n",
      "17043  125484        1850    wood_h       victor_serenus   \n",
      "17044  125485        1850    wood_h       victor_serenus   \n",
      "17045  125486        1850    wood_h       victor_serenus   \n",
      "17046  125487        1850    wood_h       victor_serenus   \n",
      "\n",
      "                                                    Text  \n",
      "0      note project gutenberg also has an html versio...  \n",
      "1      it will be recollected to epirus where her fri...  \n",
      "2      it would be best to endeavor to effect a landi...  \n",
      "3      transport his army across the straits the army...  \n",
      "4      that the true greatness of the soul of alexand...  \n",
      "...                                                  ...  \n",
      "17042  since i have been with amabel it hath waxed st...  \n",
      "17043  his face uttered a loud cry and shrank back af...  \n",
      "17044  the taurus mountains made the afternoon balmy ...  \n",
      "17045  me to a place not very far distant where all m...  \n",
      "17046  never knew these things before now thou dost r...  \n",
      "\n",
      "[15999 rows x 5 columns]\n",
      "Done!\n"
     ]
    }
   ],
   "source": [
    "file = os.path.join(ai.data_dir, \"Gutenberg.1850.Authors.gz\")\n",
    "df = pd.read_csv(file, index_col = 0)\n",
    "print(df)\n",
    "print(\"Done!\")"
   ]
  },
  {
   "cell_type": "markdown",
   "metadata": {},
   "source": [
    "Now, we're going to find out how many samples we have from different authors. So, the code below tells us how many rows in this table are representing each of our authors."
   ]
  },
  {
   "cell_type": "code",
   "execution_count": 3,
   "metadata": {},
   "outputs": [
    {
     "name": "stdout",
     "output_type": "stream",
     "text": [
      "abbott_j 927\n",
      "altsheler_j 610\n",
      "bennett_a 573\n",
      "bindloss_h 815\n",
      "chambers_r 728\n",
      "collingwood_h 659\n",
      "collins_w 858\n",
      "crawford_f 912\n",
      "doyle_a 694\n",
      "galsworthy_j 337\n",
      "gissing_g 528\n",
      "haggard_h 956\n",
      "hume_f 975\n",
      "london_j 590\n",
      "meade_l 701\n",
      "oppenheim_e 848\n",
      "parker_g 429\n",
      "quiller-couch_a 514\n",
      "stratemeyer_e 792\n",
      "ward_h 671\n",
      "warner_c 300\n",
      "wells_c 515\n",
      "weyman_s 511\n",
      "wood_h 556\n",
      "Done!\n"
     ]
    }
   ],
   "source": [
    "frequencies = ai.print_labels(df, \"Author\")\n",
    "print(\"Done!\")"
   ]
  },
  {
   "cell_type": "markdown",
   "metadata": {},
   "source": [
    "Now, each *sample* is a chapter-size chunk of about 5,000 words. So these authors all wrote a lot of books, and the books all have a bunch of samples. Let's make a figure to visualize this. The first step is to make a dataframe that contains our frequencies. To do this, run the code below."
   ]
  },
  {
   "cell_type": "code",
   "execution_count": 4,
   "metadata": {},
   "outputs": [
    {
     "name": "stdout",
     "output_type": "stream",
     "text": [
      "                 Frequency\n",
      "abbott_j               927\n",
      "altsheler_j            610\n",
      "bennett_a              573\n",
      "bindloss_h             815\n",
      "chambers_r             728\n",
      "collingwood_h          659\n",
      "collins_w              858\n",
      "crawford_f             912\n",
      "doyle_a                694\n",
      "galsworthy_j           337\n",
      "gissing_g              528\n",
      "haggard_h              956\n",
      "hume_f                 975\n",
      "london_j               590\n",
      "meade_l                701\n",
      "oppenheim_e            848\n",
      "parker_g               429\n",
      "quiller-couch_a        514\n",
      "stratemeyer_e          792\n",
      "ward_h                 671\n",
      "warner_c               300\n",
      "wells_c                515\n",
      "weyman_s               511\n",
      "wood_h                 556\n",
      "Done!\n"
     ]
    }
   ],
   "source": [
    "counts = pd.DataFrame.from_dict(frequencies, orient = \"index\", columns = [\"Frequency\"])\n",
    "print(counts)\n",
    "print(\"Done!\")"
   ]
  },
  {
   "cell_type": "markdown",
   "metadata": {},
   "source": [
    "Now we just use the built-in plotting function from *pandas*"
   ]
  },
  {
   "cell_type": "code",
   "execution_count": 5,
   "metadata": {},
   "outputs": [
    {
     "name": "stdout",
     "output_type": "stream",
     "text": [
      "Done!\n"
     ]
    },
    {
     "data": {
      "image/png": "[encoded data removed]",
      "text/plain": [
       "<Figure size 432x288 with 1 Axes>"
      ]
     },
     "metadata": {
      "needs_background": "light"
     },
     "output_type": "display_data"
    }
   ],
   "source": [
    "counts.plot(kind = \"barh\")\n",
    "print(\"Done!\")"
   ]
  },
  {
   "cell_type": "markdown",
   "metadata": {},
   "source": [
    "And that's it! Now we've opened another data set, gotten some basic information about it, and made a simple graph to show us who is the most prolific author!\n",
    "\n",
    "Now it's your turn. Try to use the code above to explore a different data set:\n",
    "\n",
    "    \"Gutenberg.1800.Authors.gz\""
   ]
  },
  {
   "cell_type": "code",
   "execution_count": null,
   "metadata": {
    "collapsed": true
   },
   "outputs": [],
   "source": []
  }
 ],
 "metadata": {
  "kernelspec": {
   "display_name": "Python 3.7",
   "language": "python",
   "name": "python3"
  },
  "language_info": {
   "codemirror_mode": {
    "name": "ipython",
    "version": 3
   },
   "file_extension": ".py",
   "mimetype": "text/x-python",
   "name": "python",
   "nbconvert_exporter": "python",
   "pygments_lexer": "ipython3",
   "version": "3.7.5"
  }
 },
 "nbformat": 4,
 "nbformat_minor": 4
}
