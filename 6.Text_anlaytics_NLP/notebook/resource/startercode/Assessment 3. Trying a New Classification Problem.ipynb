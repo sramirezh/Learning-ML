{
    "cells": [
        {
            "cell_type": "markdown",
            "metadata": {},
            "source": [
                "Let's bring this all together. In this lab, use the code examples that you've learned in this module about text classification to load a new data set. Then, fit a tf-idf vectorizer and do some classification.\n",
                "\n",
                "I want you to open the file: \"Twitter_by_Country.gz\". This contains tweets from a couple different countries (instead of cities as we used in the lab). So, this will be a country-based classification problem."
            ]
        },
        {
            "cell_type": "markdown",
            "metadata": {},
            "source": [
                "To do this, you'll probably want to take the following steps:\n",
                "\n",
                "    (1) Import dependencies, like text_analytics\n",
                "    (2) Open the file using pd.read_csv (pandas)\n",
                "    (3) Use text_analytics.fit_tfidf to make a content-based feature set\n",
                "    (4) Then, use text_analytics.svm to classify based on \"Country\" using these content features\n",
                "    \n",
                " Good luck!"
            ]
        },
        {
            "cell_type": "code",
            "execution_count": null,
            "metadata": {},
            "outputs": [],
            "source": []
        }
    ],
    "metadata": {
        "kernelspec": {
            "display_name": "Python 3",
            "language": "python",
            "name": "python3"
        },
        "language_info": {
            "codemirror_mode": {
                "name": "ipython",
                "version": 3
            },
            "file_extension": ".py",
            "mimetype": "text\/x-python",
            "name": "python",
            "nbconvert_exporter": "python",
            "pygments_lexer": "ipython3",
            "version": "3.8.3"
        }
    },
    "nbformat": 4,
    "nbformat_minor": 4
}