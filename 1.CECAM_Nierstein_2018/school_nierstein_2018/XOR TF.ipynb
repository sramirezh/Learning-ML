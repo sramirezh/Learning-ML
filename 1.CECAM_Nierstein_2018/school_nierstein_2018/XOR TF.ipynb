{
 "cells": [
  {
   "cell_type": "code",
   "execution_count": 1,
   "metadata": {},
   "outputs": [
    {
     "name": "stderr",
     "output_type": "stream",
     "text": [
      "/Users/simon/Programs/anaconda2/lib/python2.7/site-packages/h5py/__init__.py:36: FutureWarning: Conversion of the second argument of issubdtype from `float` to `np.floating` is deprecated. In future, it will be treated as `np.float64 == np.dtype(float).type`.\n",
      "  from ._conv import register_converters as _register_converters\n"
     ]
    }
   ],
   "source": [
    "import numpy as np\n",
    "import tensorflow as tf\n",
    "import tensorflow.contrib.layers as tfl"
   ]
  },
  {
   "cell_type": "code",
   "execution_count": 2,
   "metadata": {},
   "outputs": [
    {
     "name": "stdout",
     "output_type": "stream",
     "text": [
      "('loss', 0.34854388)\n",
      "('loss', 0.35040617)\n",
      "('loss', 0.33949804)\n",
      "('loss', 0.33983636)\n",
      "('accuracy:', 0.7431640625)\n"
     ]
    }
   ],
   "source": [
    "X_tf = tf.placeholder(shape=[None, 2], dtype=tf.float32)\n",
    "Y_tf = tf.placeholder(shape=[None, 1], dtype=tf.float32) #There should be just one result\n",
    "\n",
    "net = tf.identity(X_tf) # Is just net=X_tf\n",
    "#net<- sigma(A*net+a)\n",
    "\n",
    "# http://colah.github.io/posts/2014-03-NN-Manifolds-Topology/\n",
    "net = tfl.fully_connected(net,  2, activation_fn=tf.nn.sigmoid) # <==== this layer is important activation function is something non linear\n",
    "#If we add another element to the layer 2-> 3 the accuracy is 100%\n",
    "#Why do we need an activation function? is to break the holomorfism\n",
    "net = tfl.fully_connected(net,  1, activation_fn=tf.identity) \n",
    "\n",
    "loss_tf = tf.reduce_mean(tf.nn.sigmoid_cross_entropy_with_logits(labels=Y_tf, logits=net)) \n",
    "\n",
    "# sigmoid_cross_entropy_with_logits is a function that takes care that the logaritm does not...\n",
    "\n",
    "\n",
    "step_tf = tf.train.AdamOptimizer(1E-1).minimize(loss_tf) #AdamOptimizer is gradient descent on steroids\n",
    "\n",
    "with tf.Session() as sess:\n",
    "    sess.run(tf.global_variables_initializer())\n",
    "    \n",
    "    num_iterations, print_every, batch_size = 2**12, 2**10, 2**10\n",
    "    for iteration in range(num_iterations):\n",
    "        \n",
    "        X = np.random.randint(0, 2, (batch_size, 2))\n",
    "        Y = (X[:,:1]+X[:,1:]) % 2\n",
    "         \n",
    "        sess.run(step_tf, feed_dict={X_tf: X, Y_tf: Y})\n",
    "        \n",
    "        if iteration % print_every == print_every-1:\n",
    "            loss = sess.run(loss_tf, feed_dict={X_tf: X, Y_tf: Y})\n",
    "            print(\"loss\", loss)\n",
    "\n",
    "    #These are the real values\n",
    "    X = np.random.randint(0, 2, (batch_size, 2))\n",
    "    Y = (X[:,:1]+X[:,1:]) % 2\n",
    "    \n",
    "    Y_ = sess.run(tf.nn.sigmoid(net), feed_dict={X_tf: X, Y_tf: Y})\n",
    "    print(\"accuracy:\", np.mean(np.round(Y_).astype(np.int8) == Y))"
   ]
  },
  {
   "cell_type": "markdown",
   "metadata": {},
   "source": [
    "# A fully connected layer is a continuos function, read \n",
    "http://colah.github.io/posts/2014-03-NN-Manifolds-Topology/\n",
    "\n",
    "If the topology is continuos in 2D, then you can use 3 dimensions, then it will identify the domains, see blog for the two concentrical rings."
   ]
  },
  {
   "cell_type": "code",
   "execution_count": null,
   "metadata": {},
   "outputs": [],
   "source": []
  },
  {
   "cell_type": "code",
   "execution_count": null,
   "metadata": {},
   "outputs": [],
   "source": []
  }
 ],
 "metadata": {
  "kernelspec": {
   "display_name": "Python 2",
   "language": "python",
   "name": "python2"
  },
  "language_info": {
   "codemirror_mode": {
    "name": "ipython",
    "version": 2
   },
   "file_extension": ".py",
   "mimetype": "text/x-python",
   "name": "python",
   "nbconvert_exporter": "python",
   "pygments_lexer": "ipython2",
   "version": "2.7.15"
  },
  "varInspector": {
   "cols": {
    "lenName": 16,
    "lenType": 16,
    "lenVar": 40
   },
   "kernels_config": {
    "python": {
     "delete_cmd_postfix": "",
     "delete_cmd_prefix": "del ",
     "library": "var_list.py",
     "varRefreshCmd": "print(var_dic_list())"
    },
    "r": {
     "delete_cmd_postfix": ") ",
     "delete_cmd_prefix": "rm(",
     "library": "var_list.r",
     "varRefreshCmd": "cat(var_dic_list()) "
    }
   },
   "position": {
    "height": "144px",
    "left": "1085px",
    "right": "5px",
    "top": "110px",
    "width": "350px"
   },
   "types_to_exclude": [
    "module",
    "function",
    "builtin_function_or_method",
    "instance",
    "_Feature"
   ],
   "window_display": true
  }
 },
 "nbformat": 4,
 "nbformat_minor": 2
}
