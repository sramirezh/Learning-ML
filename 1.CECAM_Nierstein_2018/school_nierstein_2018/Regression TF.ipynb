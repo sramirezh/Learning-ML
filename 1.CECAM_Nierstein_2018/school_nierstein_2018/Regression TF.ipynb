{
 "cells": [
  {
   "cell_type": "markdown",
   "metadata": {},
   "source": [
    "## Session 1"
   ]
  },
  {
   "cell_type": "code",
   "execution_count": 1,
   "metadata": {},
   "outputs": [
    {
     "name": "stderr",
     "output_type": "stream",
     "text": [
      "/Users/simon/Programs/anaconda2/lib/python2.7/site-packages/h5py/__init__.py:36: FutureWarning: Conversion of the second argument of issubdtype from `float` to `np.floating` is deprecated. In future, it will be treated as `np.float64 == np.dtype(float).type`.\n",
      "  from ._conv import register_converters as _register_converters\n"
     ]
    }
   ],
   "source": [
    "import numpy as np\n",
    "import tensorflow as tf"
   ]
  },
  {
   "cell_type": "code",
   "execution_count": 2,
   "metadata": {},
   "outputs": [],
   "source": [
    "# f: R^d -> R^c\n",
    "def get_data(m, d, c):\n",
    "    X = np.random.uniform(-1, +1, (m, d))\n",
    "    A = np.random.uniform(-1, +1, (d, c))\n",
    "    E = np.random.normal (0, 0.1, (m, c))\n",
    "    Y = X.dot(A)+E\n",
    "    \n",
    "    return X, Y, A"
   ]
  },
  {
   "cell_type": "code",
   "execution_count": 4,
   "metadata": {},
   "outputs": [
    {
     "name": "stdout",
     "output_type": "stream",
     "text": [
      "((1000, 4), (1000, 2), (4, 2))\n"
     ]
    }
   ],
   "source": [
    "X, Y, A = get_data(1000, 4, 2)\n",
    "print(X.shape, Y.shape, A.shape)"
   ]
  },
  {
   "cell_type": "code",
   "execution_count": null,
   "metadata": {},
   "outputs": [],
   "source": []
  },
  {
   "cell_type": "code",
   "execution_count": 5,
   "metadata": {},
   "outputs": [
    {
     "name": "stdout",
     "output_type": "stream",
     "text": [
      "[[-0.81302658  0.28554027]\n",
      " [ 0.26367177  0.05640826]\n",
      " [-0.44034922 -0.48801552]\n",
      " [-0.75912434 -0.58244918]]\n"
     ]
    }
   ],
   "source": [
    "print(A)"
   ]
  },
  {
   "cell_type": "markdown",
   "metadata": {},
   "source": [
    "# The idea is to recover A"
   ]
  },
  {
   "cell_type": "code",
   "execution_count": 6,
   "metadata": {},
   "outputs": [
    {
     "name": "stdout",
     "output_type": "stream",
     "text": [
      "0.19000438\n",
      "0.102641314\n",
      "0.05766635\n",
      "0.0344423\n",
      "0.022414394\n",
      "0.016167065\n",
      "0.012913189\n",
      "0.011213923\n",
      "0.010324249\n",
      "0.009857313\n",
      "0.009611679\n",
      "0.00948218\n",
      "0.009413769\n",
      "0.009377553\n",
      "0.009358351\n",
      "0.00934815\n"
     ]
    }
   ],
   "source": [
    "X_tf = tf.constant(X, dtype=tf.float32) #Tensor flow variant of X\n",
    "Y_tf = tf.constant(Y, dtype=tf.float32)\n",
    "A_tf = tf.Variable(np.zeros(A.shape), dtype=tf.float32) #be careful with the capital V\n",
    "F_tf = tf.matmul(X_tf, A_tf) # Define the mapping between X->A\n",
    "\n",
    "loss_tf = tf.reduce_mean(tf.square(F_tf-Y_tf)) #How good is the F prediction vs the real Y, be careful that the data type should be the same\n",
    "\n",
    "#Definition of the optimizer, specify the tensor you want to minimize\n",
    "step_tf = tf.train.GradientDescentOptimizer(1E-3).minimize(loss_tf) \n",
    "\n",
    "\n",
    "#We need a session, this is just syntaxis\n",
    "\n",
    "with tf.Session() as sess:\n",
    "    \n",
    "    sess.run(tf.global_variables_initializer()) #Gives you a vertex with a function to initialise all variables in the graph\n",
    "    \n",
    "    num_iterations, print_every = 2**14, 2**10\n",
    "    for i in range(num_iterations):\n",
    "        \n",
    "        sess.run(step_tf)\n",
    "        \n",
    "        if i % print_every == print_every-1:\n",
    "            print(sess.run(loss_tf))   #The loss is a fucntion that has to be executed as well\n",
    "            #When we dont use sess.run it just defines a vertex on the graph\n",
    "    \n",
    "        \n",
    "    A_opt = sess.run(A_tf) #We excecute the optimal A up to that point\n"
   ]
  },
  {
   "cell_type": "markdown",
   "metadata": {},
   "source": [
    "# They are not the same cus we added noise on top of the original Y = X.dot(A)+E, E being the gaussian noise "
   ]
  },
  {
   "cell_type": "code",
   "execution_count": 7,
   "metadata": {},
   "outputs": [
    {
     "name": "stdout",
     "output_type": "stream",
     "text": [
      "[[-0.81302658  0.28554027]\n",
      " [ 0.26367177  0.05640826]\n",
      " [-0.44034922 -0.48801552]\n",
      " [-0.75912434 -0.58244918]]\n",
      "\n",
      "[[-0.8155286   0.28901714]\n",
      " [ 0.26406878  0.05772051]\n",
      " [-0.43799645 -0.4838686 ]\n",
      " [-0.7520337  -0.5815256 ]]\n"
     ]
    }
   ],
   "source": [
    "print(A)\n",
    "print(\"\")\n",
    "print(A_opt)"
   ]
  },
  {
   "cell_type": "code",
   "execution_count": null,
   "metadata": {},
   "outputs": [],
   "source": []
  }
 ],
 "metadata": {
  "kernelspec": {
   "display_name": "Python 2",
   "language": "python",
   "name": "python2"
  },
  "language_info": {
   "codemirror_mode": {
    "name": "ipython",
    "version": 2
   },
   "file_extension": ".py",
   "mimetype": "text/x-python",
   "name": "python",
   "nbconvert_exporter": "python",
   "pygments_lexer": "ipython2",
   "version": "2.7.15"
  }
 },
 "nbformat": 4,
 "nbformat_minor": 2
}
