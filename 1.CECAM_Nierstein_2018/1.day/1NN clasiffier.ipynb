{
 "cells": [
  {
   "cell_type": "code",
   "execution_count": 8,
   "metadata": {},
   "outputs": [],
   "source": [
    "import numpy as np\n",
    "import matplotlib.pyplot as plt\n",
    "import tensorflow as tf\n",
    "import pylab as pl"
   ]
  },
  {
   "cell_type": "code",
   "execution_count": 9,
   "metadata": {},
   "outputs": [
    {
     "name": "stdout",
     "output_type": "stream",
     "text": [
      "((60000, 28, 28), (10000, 28, 28), (60000,), (10000,))\n",
      "uint8\n"
     ]
    }
   ],
   "source": [
    "# Choose datasets using \n",
    "\n",
    "(train,label_train), (test, label_test) = tf.keras.datasets.mnist.load_data() #Labeled digits\n",
    "(train,label_train), (test, label_test) = tf.keras.datasets.fashion_mnist.load_data() #Labeled clothe\n",
    "\n",
    "print (train.shape, test.shape, label_train.shape, label_test.shape)\n",
    "print (train.dtype) #To see the data type"
   ]
  },
  {
   "cell_type": "code",
   "execution_count": 10,
   "metadata": {},
   "outputs": [],
   "source": [
    "#Recastging the dataset type to float32\n",
    "\n",
    "test = test.astype(np.float32)\n",
    "train = train.astype(np.float32)"
   ]
  },
  {
   "cell_type": "code",
   "execution_count": 35,
   "metadata": {},
   "outputs": [
    {
     "name": "stdout",
     "output_type": "stream",
     "text": [
      "((1000, 28, 28), (1000, 28, 28), (1000,), (1000,))\n"
     ]
    }
   ],
   "source": [
    "#Slicing the data sets to make it smalletr\n",
    "\n",
    "num_test, num_train=10000,10000\n",
    "\n",
    "test, label_test= test[:num_test], label_test[:num_test]\n",
    "train, label_train= train[:num_test], label_train[:num_test]\n",
    "\n",
    "print (train.shape, test.shape, label_train.shape, label_test.shape)"
   ]
  },
  {
   "cell_type": "code",
   "execution_count": 16,
   "metadata": {},
   "outputs": [
    {
     "data": {
      "image/png": "[encoded data removed]",
      "text/plain": [
       "<matplotlib.figure.Figure at 0xb2d2808d0>"
      ]
     },
     "metadata": {},
     "output_type": "display_data"
    },
    {
     "data": {
      "image/png": "[encoded data removed]",
      "text/plain": [
       "<matplotlib.figure.Figure at 0xb29311d90>"
      ]
     },
     "metadata": {},
     "output_type": "display_data"
    },
    {
     "data": {
      "image/png": "[encoded data removed]",
      "text/plain": [
       "<matplotlib.figure.Figure at 0xb2d266e10>"
      ]
     },
     "metadata": {},
     "output_type": "display_data"
    },
    {
     "data": {
      "image/png": "[encoded data removed]",
      "text/plain": [
       "<matplotlib.figure.Figure at 0x1197c6ad0>"
      ]
     },
     "metadata": {},
     "output_type": "display_data"
    }
   ],
   "source": [
    "#Lets have a look of the data first\n",
    "\n",
    "num_examples = 4\n",
    "for label, image in zip(label_test, test)[:num_examples]: #To create pairs image-label\n",
    "    pl.imshow(image)\n",
    "    pl.title(label)\n",
    "    pl.show()\n",
    "    \n",
    "    "
   ]
  },
  {
   "cell_type": "code",
   "execution_count": 22,
   "metadata": {},
   "outputs": [
    {
     "name": "stderr",
     "output_type": "stream",
     "text": [
      "100%|██████████| 10/10 [00:10<00:00,  1.01s/it]\n"
     ]
    }
   ],
   "source": [
    "import tqdm #Gives a nice counting bar\n",
    "import time \n",
    "\n",
    "for index in tqdm.tqdm(range(10)):\n",
    "    time.sleep(1)"
   ]
  },
  {
   "cell_type": "code",
   "execution_count": 24,
   "metadata": {},
   "outputs": [
    {
     "name": "stderr",
     "output_type": "stream",
     "text": [
      "1000it [00:08, 111.92it/s]"
     ]
    },
    {
     "name": "stdout",
     "output_type": "stream",
     "text": [
      "(0.769, 8.950224161148071)\n"
     ]
    },
    {
     "name": "stderr",
     "output_type": "stream",
     "text": [
      "\n"
     ]
    }
   ],
   "source": [
    "#Start predicting labels \n",
    "#This cell is really ineficient, because of the 2 nested loops.\n",
    "\n",
    "def predict(image, train, label_train):\n",
    "    bsf=float('infinity') #Best so far distance, initialised\n",
    "    bsf_index=-1\n",
    "    \n",
    "    for index, train_image in enumerate(train):\n",
    "        #Train and test are 28x28 matrices\n",
    "        dist = np.sum(np.square(train_image-image),axis=(0,1)) # Euclidian distance, if datasets are aligned\n",
    "        \n",
    "        if dist < bsf:\n",
    "            bsf=dist\n",
    "            bsf_index=index\n",
    "            \n",
    "    return label_train[bsf_index]\n",
    "\n",
    "begin =time.time()\n",
    "\n",
    "label_predicted =np.zeros(label_test.shape)\n",
    "for index, image in  tqdm.tqdm(enumerate(test)):\n",
    "    label_predicted[index]=predict(image, train, label_train)\n",
    "    \n",
    "    \n",
    "print (np.mean(label_predicted==label_test), time.time()-begin)\n"
   ]
  },
  {
   "cell_type": "code",
   "execution_count": 39,
   "metadata": {},
   "outputs": [
    {
     "name": "stdout",
     "output_type": "stream",
     "text": [
      "((1000, 1000), (1000,), (1000,))\n",
      "((1000, 1000), (1000, 1), (1000, 1))\n",
      "(0.098, 0.01783013343811035)\n"
     ]
    }
   ],
   "source": [
    "#Last cell is really ineficient, because of the 2 nested loops. We do this is numpy which is implemented in c\n",
    "\n",
    "begin =time.time()\n",
    "\n",
    "# [num_test,28,28]\n",
    "X2 = np.sum(np.square(test),axis= (1,2)) #Shape is [image, pixel x, pixel y]\n",
    "Y2 = np.sum(np.square(train),axis= (1,2))\n",
    "XY = np.tensordot(train, test, axes =((1,2),(1,2)))\n",
    "\n",
    "\n",
    "print (XY.shape, X2.shape, Y2.shape) \n",
    "\n",
    "#Like reshaping\n",
    "X2 = np.expand_dims(X2,1)\n",
    "Y2 = np.expand_dims(Y2,1)\n",
    "\n",
    "print (XY.shape, X2.shape, Y2.shape) \n",
    "\n",
    "#The euclidian distance\n",
    "\n",
    "D=X2-2*XY+Y2\n",
    "\n",
    "best_match=D.argmin(axis=1)\n",
    "\n",
    "#print (best_match)\n",
    "label_predict = label_train[best_match]\n",
    "\n",
    "print (np.mean(label_predict == label_test), time.time()-begin)\n"
   ]
  },
  {
   "cell_type": "code",
   "execution_count": null,
   "metadata": {},
   "outputs": [],
   "source": []
  }
 ],
 "metadata": {
  "kernelspec": {
   "display_name": "Python 2",
   "language": "python",
   "name": "python2"
  },
  "language_info": {
   "codemirror_mode": {
    "name": "ipython",
    "version": 2
   },
   "file_extension": ".py",
   "mimetype": "text/x-python",
   "name": "python",
   "nbconvert_exporter": "python",
   "pygments_lexer": "ipython2",
   "version": "2.7.15"
  }
 },
 "nbformat": 4,
 "nbformat_minor": 2
}
