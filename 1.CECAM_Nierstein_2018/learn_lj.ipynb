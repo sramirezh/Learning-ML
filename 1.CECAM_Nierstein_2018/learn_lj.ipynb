{
 "cells": [
  {
   "cell_type": "markdown",
   "metadata": {
    "nbpresent": {
     "id": "7a5efdef-72f2-4a11-ba37-57915090f29d"
    }
   },
   "source": [
    "# Learn the Lennard Jones potential using kernel methods\n",
    "### Tristan Bereau (MPIP)\n",
    "`bereau@mpip-mainz.mpg.de`\n",
    "\n",
    "\n",
    "We are going to code a machine learning, not to code it"
   ]
  },
  {
   "cell_type": "code",
   "execution_count": 1,
   "metadata": {
    "nbpresent": {
     "id": "c9d17468-af82-4d59-b51f-7d470b2eaf6f"
    }
   },
   "outputs": [],
   "source": [
    "import numpy as np\n",
    "import matplotlib.pyplot as plt\n",
    "import matplotlib.colors as colors\n",
    "import time\n",
    "from matplotlib import rc\n",
    "rc('text', usetex=True)\n",
    "from sklearn.model_selection import train_test_split\n",
    "import scipy\n",
    "from scipy.spatial.distance import pdist, cdist, squareform #pairwise distances...\n",
    "from sklearn.metrics import mean_absolute_error\n",
    "np.set_printoptions(precision=4, suppress=True)\n",
    "\n",
    "np.random.seed(1)"
   ]
  },
  {
   "cell_type": "code",
   "execution_count": 2,
   "metadata": {
    "nbpresent": {
     "id": "bab3a59c-d6f6-42dd-b54d-40be533b6332"
    }
   },
   "outputs": [],
   "source": [
    "# Define the Lennard Jones potential. \n",
    "# Work in reduced units \\sigma = 1 and \\epsilon = 1.\n",
    "def lj(r):\n",
    "    return 4.*((1/r)**12 - (1/r)**6)\n",
    "\n",
    "def morse(r,d=1.8,a=5.0,s=1.1):\n",
    "    return d*((1-np.exp(-a*(r-s)))**2-1)"
   ]
  },
  {
   "cell_type": "code",
   "execution_count": 3,
   "metadata": {
    "nbpresent": {
     "id": "8b77cd8c-7fce-4de9-9dc9-df1bff7d4840"
    }
   },
   "outputs": [
    {
     "data": {
      "image/png": "[encoded data removed]",
      "text/plain": [
       "<matplotlib.figure.Figure at 0x1a1fc99fd0>"
      ]
     },
     "metadata": {},
     "output_type": "display_data"
    }
   ],
   "source": [
    "# Plot\n",
    "t1 = np.arange(0.87, 2.0, 0.01)\n",
    "\n",
    "ax1 = plt.subplot(111)\n",
    "ax1.set_xlabel('Distance [$\\sigma$]')\n",
    "ax1.set_ylabel('Energy [$\\epsilon$]')\n",
    "# 0 energy\n",
    "ax1.plot(t1, [0]*t1, '--k')\n",
    "# LJ potential\n",
    "ax1.plot(t1, lj(t1), 'b')\n",
    "plt.show()"
   ]
  },
  {
   "cell_type": "code",
   "execution_count": 4,
   "metadata": {
    "nbpresent": {
     "id": "e35eb962-6f23-40f3-9cd1-6f12afc5cdc1"
    }
   },
   "outputs": [],
   "source": [
    "#Generates train and tests\n",
    "def split_train_test(N, test_frac):\n",
    "    # Draw random numbers. Shift them between 0.87 and 2.0\n",
    "    xmin, xmax = 0.87, 2.0\n",
    "    t1 = np.random.rand(N) * (xmax - xmin) + xmin\n",
    "    X, y = t1, lj(t1)\n",
    "    X_train, X_test, y_train, y_test = train_test_split(\n",
    "             X, y, test_size=test_frac, random_state=int(time.time()))\n",
    "#     print(\"Training: {:d} samples; Test: {:d} samples\".format(len(X_train),len(X_test)))\n",
    "    return X_train, X_test, y_train, y_test"
   ]
  },
  {
   "cell_type": "code",
   "execution_count": 290,
   "metadata": {
    "nbpresent": {
     "id": "58eddc79-3397-4f10-bf20-8d171b9f3ed4"
    }
   },
   "outputs": [
    {
     "data": {
      "image/png": "[encoded data removed]",
      "text/plain": [
       "<Figure size 432x288 with 1 Axes>"
      ]
     },
     "metadata": {},
     "output_type": "display_data"
    }
   ],
   "source": [
    "# Split N datapoints between training and test\n",
    "N = 50\n",
    "test_frac = 0.3\n",
    "xtr, xte, ytr, yte = split_train_test(N, test_frac)\n",
    "\n",
    "ax1 = plt.subplot(111)\n",
    "ax1.set_xlabel('Distance [$\\sigma$]')\n",
    "ax1.set_ylabel('Energy [$\\epsilon$]')\n",
    "# 0 energy\n",
    "t1 = np.arange(0.9, 2.0, 0.01)\n",
    "ax1.plot(t1, [0]*t1, '--k')\n",
    "# Training points\n",
    "ax1.plot(xtr, ytr, 'or', label=u'Training')\n",
    "# Test points\n",
    "ax1.plot(xte, yte, 'og', label=u'Test')\n",
    "plt.legend(loc='upper right')\n",
    "plt.show()"
   ]
  },
  {
   "cell_type": "markdown",
   "metadata": {},
   "source": [
    "## Implementation of ML model\n",
    "Representation $x$: distance $r$\n",
    "\n",
    "Laplacian kernel with L2 norm: \n",
    "\n",
    "$K(x,x') = \\exp\\left(-\\frac{||x-x'||^1_2}{\\sigma}\\right)$\n",
    "\n",
    "\n",
    "The goal is to build this kernel matrix\n",
    "\n",
    "When you invert the matrix, you solve the $\\alpha$ parameters\n",
    "\n",
    "$K\\alpha=Y$"
   ]
  },
  {
   "cell_type": "code",
   "execution_count": 6,
   "metadata": {
    "nbpresent": {
     "id": "2b03e5a6-c821-484f-b939-4fc5146633b6"
    }
   },
   "outputs": [],
   "source": [
    "# Train a kernel machine\n",
    "def train_model(Xtrain, ytrain, sigma, lambd, prior):\n",
    "    # Kernel - size num_obs*num_obs\n",
    "    # Use a laplacian kernel with L1 norm\n",
    "    pairwise_dists = squareform(pdist(Xtrain, 'euclidean'))\n",
    "    Ktrain = scipy.exp(- pairwise_dists / sigma) - lambd*np.identity(len(Xtrain)) #The last part ahs the regularisation\n",
    "    target = ytrain - prior\n",
    "    Kinv   = np.linalg.inv(Ktrain)\n",
    "    alpha  = np.dot(target, Kinv) #Optimized coefficients\n",
    "    # Return optimized coefficients\n",
    "    return alpha, Kinv"
   ]
  },
  {
   "cell_type": "markdown",
   "metadata": {},
   "source": [
    "$f(x^*)=\\sum_1^\\infty \\alpha_i K(x_i,x^*)$\n",
    "\n",
    "the $x^*$ is the point that I want to predict"
   ]
  },
  {
   "cell_type": "code",
   "execution_count": 12,
   "metadata": {},
   "outputs": [],
   "source": [
    "# Make predictions from a ML model\n",
    "def predict_model(Xpred, Xtrain, alpha, K_inv, sigma, prior):\n",
    "    \"\"\"\n",
    "    Args:\n",
    "        Xpred, points to predict\n",
    "        Xtrain, points used to train\n",
    "        alpha. coefficients from training\n",
    "        K  kernel from training\n",
    "        sigma from regularisation \n",
    "        prior\n",
    "    \"\"\"\n",
    "    # Predict each pair\n",
    "    pairwise_dists = cdist(Xtrain, Xpred, 'euclidean') #Now is pairwise distance but in a non-square matris\n",
    "    K_tr_te = scipy.exp(- pairwise_dists / sigma) #See it in the markdown up\n",
    "    \n",
    "    # Mean value: prediction\n",
    "    # K* \\alpha (+ \\mu)\n",
    "    pred = np.dot(alpha, K_tr_te) + prior\n",
    "    \n",
    "    # Accuracy of the prediction\n",
    "    # K** - K* K^{-1} K*\n",
    "    pairwise_dists = squareform(pdist( Xpred, 'euclidean'))\n",
    "    K_te_te = scipy.exp(- pairwise_dists / sigma)\n",
    "    accur = K_te_te - np.dot(K_tr_te.T, np.dot(K_inv, K_tr_te))\n",
    "    return pred, accur.diagonal()"
   ]
  },
  {
   "cell_type": "code",
   "execution_count": 28,
   "metadata": {
    "nbpresent": {
     "id": "e8cc106c-229c-4881-9ff2-98e88bfd2454"
    }
   },
   "outputs": [],
   "source": [
    "def build_model(N, test_frac, sigma, lambd, prior=False):\n",
    "    # Build train/test dataset\n",
    "    xtr, xte, ytr, yte = split_train_test(N, test_frac)\n",
    "    Xtrain, Xtest = xtr.reshape((len(xtr),1)), xte.reshape((len(xte),1)) #could use -1 instead of len(xte)\n",
    "    \n",
    "    # Optionally add a prior (Morse potential)\n",
    "    #Prior has the same dimension of the label\n",
    "    ytrpr, ytepr = np.zeros(len(ytr)), np.zeros(len(yte))\n",
    "    if prior is True:\n",
    "        ytrpr = morse(xtr)\n",
    "        ytepr = morse(xte)\n",
    "\n",
    "    # Train model\n",
    "    alpha, Kinv = train_model(Xtrain, ytr, sigma, lambd, prior=ytrpr)\n",
    "\n",
    "    # Test model\n",
    "    ypred, accur = predict_model(Xtest, Xtrain, alpha, Kinv, sigma, prior=ytepr)\n",
    "\n",
    "    # Mean absolute error \n",
    "    mae = mean_absolute_error(ypred, yte) #yte are the true values and ypred\n",
    "    \n",
    "    # Sort xte, yte, ypred, and accur\n",
    "    xteinds = xte.argsort()\n",
    "    \n",
    "    return xtr, xte[xteinds], ytr, yte[xteinds], ypred[xteinds], accur[xteinds], mae"
   ]
  },
  {
   "cell_type": "markdown",
   "metadata": {},
   "source": [
    "## First test"
   ]
  },
  {
   "cell_type": "code",
   "execution_count": 20,
   "metadata": {},
   "outputs": [],
   "source": [
    "Xtrain, Xtest, ytrain, ytest, ypred, accur, mae = build_model(N=50, test_frac=0.5, sigma=1.0, lambd=1e-6, prior=False)"
   ]
  },
  {
   "cell_type": "code",
   "execution_count": 355,
   "metadata": {
    "nbpresent": {
     "id": "1bebc539-2911-4694-9403-496985b6ec20"
    }
   },
   "outputs": [
    {
     "data": {
      "image/png": "[encoded data removed]",
      "text/plain": [
       "<Figure size 432x288 with 1 Axes>"
      ]
     },
     "metadata": {},
     "output_type": "display_data"
    }
   ],
   "source": [
    "# Plot the function, the prediction and the 95% confidence interval\n",
    "t1 = np.arange(0.87, 2.0, 0.01)\n",
    "fig = plt.figure()\n",
    "plt.rc('text', usetex=True)\n",
    "plt.plot(t1, lj(t1), 'r:', label=r'$U_{\\rm LJ}(r)$')\n",
    "plt.plot(t1, [0]*t1, 'k:')\n",
    "plt.plot(Xtrain, ytrain, 'r.', markersize=10, label=u'Training points')\n",
    "plt.plot(Xtest, ypred, 'bo', label=u'Prediction')\n",
    "plt.fill(np.concatenate([Xtest, Xtest[::-1]]),\n",
    "         np.concatenate([ypred - 1.9600 * accur,\n",
    "                        (ypred + 1.9600 * accur)[::-1]]),\n",
    "         alpha=.5, fc='b', ec='None')\n",
    "plt.xlabel('$r \\  [\\sigma]$')\n",
    "plt.ylabel(r'$U_{\\rm LJ}(r) \\  [\\epsilon]$')\n",
    "plt.legend(loc='upper right')\n",
    "plt.show()"
   ]
  },
  {
   "cell_type": "code",
   "execution_count": null,
   "metadata": {},
   "outputs": [],
   "source": []
  },
  {
   "cell_type": "markdown",
   "metadata": {
    "collapsed": true
   },
   "source": []
  },
  {
   "cell_type": "markdown",
   "metadata": {},
   "source": [
    "## Scan hyperparameters"
   ]
  },
  {
   "cell_type": "code",
   "execution_count": 21,
   "metadata": {},
   "outputs": [
    {
     "data": {
      "image/png": "[encoded data removed]",
      "text/plain": [
       "<matplotlib.figure.Figure at 0x1a1fc99d10>"
      ]
     },
     "metadata": {},
     "output_type": "display_data"
    }
   ],
   "source": [
    "# Scan hyperparameters\n",
    "sigmas  = [1e-4,1e-3,1e-2,1e-1,1e0,1e1,1e2]\n",
    "lambds  = [1e-10,1e-8,1e-6,1e-4,1e-2]\n",
    "Ndata   = 100\n",
    "te_frac = 0.3\n",
    "numexp  = 10 #Model ten times and take the average, with different splittings everytime\n",
    "hypersurf = np.zeros((len(sigmas),len(lambds))) \n",
    "\n",
    "#Run over all training parameters\n",
    "for i,s in enumerate(sigmas):\n",
    "    for j,l in enumerate(lambds):\n",
    "        mae_k = []\n",
    "        for k in range(numexp):\n",
    "            Xtrain, Xtest, ytrain, ytest, ypred, accur, mae = build_model(N=Ndata, test_frac=te_frac, sigma=s, lambd=l)\n",
    "            mae_k.append(mae)\n",
    "        hypersurf[i,j] = np.mean(mae_k)\n",
    "# Plot the surface\n",
    "fig, ax = plt.subplots()\n",
    "pcm = ax.pcolor(sigmas, lambds, hypersurf.T,\n",
    "                   norm=colors.LogNorm(vmin=hypersurf.min(), vmax=hypersurf.max()),\n",
    "                   cmap='YlGn')\n",
    "\n",
    "#Plot in a logscale cus parameters change a lot\n",
    "ax.semilogx()\n",
    "ax.semilogy()\n",
    "ax.set_xlabel('$\\sigma$')\n",
    "ax.set_ylabel('$\\lambda$')\n",
    "fig.colorbar(pcm, ax=ax, extend='max')\n",
    "fig.tight_layout()\n",
    "plt.show()"
   ]
  },
  {
   "cell_type": "markdown",
   "metadata": {},
   "source": [
    "There is more variation in $\\sigma$ than $\\lambda$"
   ]
  },
  {
   "cell_type": "markdown",
   "metadata": {},
   "source": [
    "## Building our first learning curve\n",
    "\n",
    "Let's choose the parameters from the last"
   ]
  },
  {
   "cell_type": "code",
   "execution_count": 23,
   "metadata": {},
   "outputs": [
    {
     "name": "stdout",
     "output_type": "stream",
     "text": [
      "1 2 5 10 20 50 100 200 500 1000\n"
     ]
    }
   ],
   "source": [
    "# Build learning curves\n",
    "numdata = [1,2,5,10,20,50,100,200,500,1000]\n",
    "numexp  = 20\n",
    "te_frac = 0.3\n",
    "sig     = 2e-1\n",
    "lambd   = 1e-9\n",
    "maes = []\n",
    "maes_std = []\n",
    "for n in numdata:\n",
    "    print n,\n",
    "    mae_i = []\n",
    "    for j in range(numexp):\n",
    "        Xtrain, Xtest, ytrain, ytest, ypred, accur, mae = build_model(N=n, test_frac=te_frac, \n",
    "                                                                      sigma=sig, lambd=lambd, prior=False)\n",
    "        mae_i.append(mae)\n",
    "    maes.append(np.mean(mae_i))\n",
    "    maes_std.append(scipy.stats.sem(mae_i))"
   ]
  },
  {
   "cell_type": "code",
   "execution_count": 24,
   "metadata": {},
   "outputs": [
    {
     "data": {
      "image/png": "[encoded data removed]",
      "text/plain": [
       "<matplotlib.figure.Figure at 0x1a1ff63910>"
      ]
     },
     "metadata": {},
     "output_type": "display_data"
    }
   ],
   "source": [
    "# Plot the learning curves\n",
    "fig = plt.figure()\n",
    "plt.rc('text', usetex=True)\n",
    "plt.errorbar(numdata, maes, yerr=maes_std)\n",
    "plt.loglog()\n",
    "axes = plt.gca()\n",
    "# axes.set_xlim([min(numdata)*0.5,max(numdata)*1.1])\n",
    "# ylim = [min(maes)*0.8,max(maes)*2]\n",
    "# axes.set_ylim(ylim)\n",
    "plt.xlabel('Number of training points')\n",
    "plt.ylabel('MAE $[\\epsilon]$')\n",
    "plt.title('Prior: uniform')\n",
    "plt.grid()\n",
    "plt.show()"
   ]
  },
  {
   "cell_type": "markdown",
   "metadata": {},
   "source": [
    "## Add a prior\n",
    "\n",
    "Adding morse potential as a prior. \n",
    "\n",
    "Let's say I do not know the LJ but I know the morse potential. If I provide this as baseline, then it would be more efficient. \n",
    "\n",
    "So, we are going to learn from the green curve.\n",
    "\n",
    "I will learn on the difference between the lines.\n",
    "\n",
    "## In fact \n",
    "in the simulations, if we get the training points from MD, then it will be difficult to get points for small distances, because the s"
   ]
  },
  {
   "cell_type": "code",
   "execution_count": 25,
   "metadata": {},
   "outputs": [
    {
     "data": {
      "image/png": "[encoded data removed]",
      "text/plain": [
       "<matplotlib.figure.Figure at 0x1a22b36090>"
      ]
     },
     "metadata": {},
     "output_type": "display_data"
    }
   ],
   "source": [
    "# Plot\n",
    "t1 = np.arange(0.87, 2.0, 0.01)\n",
    "\n",
    "ax1 = plt.subplot(111)\n",
    "ax1.set_xlabel('Distance [$\\sigma$]')\n",
    "ax1.set_ylabel('Energy [$\\epsilon$]')\n",
    "# 0 energy\n",
    "ax1.plot(t1, [0]*t1, '--k')\n",
    "# LJ potential\n",
    "ax1.plot(t1, lj(t1), 'b', label=u'Lennard-Jones')\n",
    "# Repulsive model\n",
    "ax1.plot(t1, morse(t1), 'g-', label=u'Morse potential')\n",
    "plt.legend(loc='upper right')\n",
    "plt.show()"
   ]
  },
  {
   "cell_type": "code",
   "execution_count": 29,
   "metadata": {},
   "outputs": [
    {
     "name": "stdout",
     "output_type": "stream",
     "text": [
      "1 2 5 10 20 50 100 200 500 1000\n"
     ]
    }
   ],
   "source": [
    "# Build learning curves with nonuniform prior\n",
    "maes_pr = []\n",
    "maes_pr_std = []\n",
    "for n in numdata:\n",
    "    print n,\n",
    "    mae_i = []\n",
    "    for j in range(numexp):\n",
    "        Xtrain, Xtest, ytrain, ytest, ypred, accur, mae = build_model(N=n, test_frac=te_frac, \n",
    "                                                                      sigma=sig, lambd=lambd, prior=True)\n",
    "        mae_i.append(mae)\n",
    "    maes_pr.append(np.mean(mae_i))\n",
    "    maes_pr_std.append(scipy.stats.sem(mae_i))"
   ]
  },
  {
   "cell_type": "code",
   "execution_count": 30,
   "metadata": {},
   "outputs": [
    {
     "data": {
      "image/png": "[encoded data removed]",
      "text/plain": [
       "<matplotlib.figure.Figure at 0x110383350>"
      ]
     },
     "metadata": {},
     "output_type": "display_data"
    }
   ],
   "source": [
    "# Plot the learning curves\n",
    "fig = plt.figure()\n",
    "plt.rc('text', usetex=True)\n",
    "plt.errorbar(numdata, maes, yerr=maes_std, label=u'Uniform prior')\n",
    "plt.errorbar(numdata, maes_pr, yerr=maes_pr_std, label=u'with prior')\n",
    "plt.loglog()\n",
    "axes = plt.gca()\n",
    "plt.xlabel('Number of training points')\n",
    "plt.ylabel('MAE $[\\epsilon]$')\n",
    "plt.legend(loc='upper right')\n",
    "plt.grid()\n",
    "plt.show()"
   ]
  },
  {
   "cell_type": "code",
   "execution_count": null,
   "metadata": {
    "collapsed": true
   },
   "outputs": [],
   "source": []
  }
 ],
 "metadata": {
  "anaconda-cloud": {},
  "kernelspec": {
   "display_name": "Python 2",
   "language": "python",
   "name": "python2"
  },
  "language_info": {
   "codemirror_mode": {
    "name": "ipython",
    "version": 2
   },
   "file_extension": ".py",
   "mimetype": "text/x-python",
   "name": "python",
   "nbconvert_exporter": "python",
   "pygments_lexer": "ipython2",
   "version": "2.7.15"
  },
  "nbpresent": {
   "slides": {
    "dac4ae47-31cf-4e4a-ada6-e72400b824df": {
     "id": "dac4ae47-31cf-4e4a-ada6-e72400b824df",
     "prev": "f1ffa0c2-5cf4-4a1b-a7dc-5ce34ba7ff62",
     "regions": {
      "15d5ceec-2865-4475-9573-9f8b7256a5a2": {
       "attrs": {
        "height": 1,
        "width": 1,
        "x": 0,
        "y": 0
       },
       "content": {
        "cell": "c9d17468-af82-4d59-b51f-7d470b2eaf6f",
        "part": "source"
       },
       "id": "15d5ceec-2865-4475-9573-9f8b7256a5a2"
      }
     }
    },
    "f1ffa0c2-5cf4-4a1b-a7dc-5ce34ba7ff62": {
     "id": "f1ffa0c2-5cf4-4a1b-a7dc-5ce34ba7ff62",
     "prev": null,
     "regions": {
      "a119f103-a637-41d2-b4b6-6bba524bcb08": {
       "attrs": {
        "height": 1,
        "width": 1,
        "x": 0,
        "y": 0
       },
       "content": {
        "cell": "7a5efdef-72f2-4a11-ba37-57915090f29d",
        "part": "source"
       },
       "id": "a119f103-a637-41d2-b4b6-6bba524bcb08"
      }
     }
    }
   },
   "themes": {
    "default": "67c4b087-f4b9-4700-8a3e-5647efe440d1",
    "theme": {
     "eb6387fc-0286-4b0c-8909-9313243c721d": {
      "id": "eb6387fc-0286-4b0c-8909-9313243c721d",
      "palette": {
       "19cc588f-0593-49c9-9f4b-e4d7cc113b1c": {
        "id": "19cc588f-0593-49c9-9f4b-e4d7cc113b1c",
        "rgb": [
         252,
         252,
         252
        ]
       },
       "31af15d2-7e15-44c5-ab5e-e04b16a89eff": {
        "id": "31af15d2-7e15-44c5-ab5e-e04b16a89eff",
        "rgb": [
         68,
         68,
         68
        ]
       },
       "50f92c45-a630-455b-aec3-788680ec7410": {
        "id": "50f92c45-a630-455b-aec3-788680ec7410",
        "rgb": [
         155,
         177,
         192
        ]
       },
       "c5cc3653-2ee1-402a-aba2-7caae1da4f6c": {
        "id": "c5cc3653-2ee1-402a-aba2-7caae1da4f6c",
        "rgb": [
         43,
         126,
         184
        ]
       },
       "efa7f048-9acb-414c-8b04-a26811511a21": {
        "id": "efa7f048-9acb-414c-8b04-a26811511a21",
        "rgb": [
         25.118061674008803,
         73.60176211453744,
         107.4819383259912
        ]
       }
      },
      "rules": {
       "blockquote": {
        "color": "50f92c45-a630-455b-aec3-788680ec7410"
       },
       "code": {
        "font-family": "Anonymous Pro"
       },
       "h1": {
        "color": "c5cc3653-2ee1-402a-aba2-7caae1da4f6c",
        "font-family": "Lato",
        "font-size": 8
       },
       "h2": {
        "color": "c5cc3653-2ee1-402a-aba2-7caae1da4f6c",
        "font-family": "Lato",
        "font-size": 6
       },
       "h3": {
        "color": "50f92c45-a630-455b-aec3-788680ec7410",
        "font-family": "Lato",
        "font-size": 5.5
       },
       "h4": {
        "color": "c5cc3653-2ee1-402a-aba2-7caae1da4f6c",
        "font-family": "Lato",
        "font-size": 5
       },
       "h5": {
        "font-family": "Lato"
       },
       "h6": {
        "font-family": "Lato"
       },
       "h7": {
        "font-family": "Lato"
       },
       "pre": {
        "font-family": "Anonymous Pro",
        "font-size": 4
       }
      },
      "text-base": {
       "font-family": "Merriweather",
       "font-size": 4
      }
     }
    }
   }
  }
 },
 "nbformat": 4,
 "nbformat_minor": 1
}
