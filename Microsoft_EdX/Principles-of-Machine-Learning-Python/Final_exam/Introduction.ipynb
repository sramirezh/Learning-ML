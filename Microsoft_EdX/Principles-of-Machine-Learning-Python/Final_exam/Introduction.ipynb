{
 "cells": [
  {
   "cell_type": "markdown",
   "metadata": {},
   "source": [
    "## Challenge Overview\n",
    "In 1998, the Adventure Works Cycles company collected a large volume of data about their existing customers, including demographic features and information about purchases they have made. The company is particularly interested in analyzing customer data to determine any apparent relationships between demographic features known about the customers and the likelihood of a customer purchasing a bike. Additionally, the analysis should endeavor to determine whether a customer's average monthly spend with the company can be predicted from known customer characteristics.\n",
    "\n",
    "\n",
    "In this project, you must tackle three challenges:\n",
    "\n",
    "1. Challenge 1: Explore the data and gain some insights into Adventure Works customer characteristics and purchasing behavior.\n",
    "2. Challenge 2: Build a classification model to predict customer purchasing behavior.\n",
    "3. Challenge 3: Build a regression model to predict customer purchasing behavior.\n",
    "\n",
    "\n",
    "This data consists of three files, containing data that was collected on January 1st 1998.\n",
    "\n",
    "**AdvWorksCusts.csv**\n",
    "Customer demographic data consisting of the following fields:\n",
    "\n",
    "-CustomerID (integer): A unique customer identifier.  \n",
    "-Title (string): The customer's formal title (Mr, Mrs, Ms, Miss Dr, etc.)  \n",
    "-FirstName (string): The customer's first name.  \n",
    "-MiddleName (string): The customer's middle name.\n",
    "-LastName (string): The customer's last name.\n",
    "-Suffix (string): A suffix for the customer name (Jr, Sr, etc.)  \n",
    "-AddressLine1 (string): The first line of the customer's home address.  \n",
    "-AddressLine2 (string): The second line of the customer's home address.  \n",
    "-City (string): The city where the customer lives.  \n",
    "-StateProvince (string): The state or province where the customer lives.  \n",
    "-CountryRegion (string): The country or region where the customer lives.  \n",
    "-PostalCode (string): The postal code for the customer's address.  \n",
    "-PhoneNumber (string): The customer's telephone number.  \n",
    "-BirthDate (date): The customer's date of birth in the format YYYY-MM-DD.  \n",
    "-Education (string): The maximum level of education achieved by the -customer:  \n",
    "    -Partial High School  \n",
    "    -High School  \n",
    "    -Partial College  \n",
    "    -Bachelors  \n",
    "    -Graduate Degree  \n",
    "-Occupation (string): The type of job in which the customer is employed:  \n",
    "    -Manual  \n",
    "    -Skilled Manual  \n",
    "    -Clerical  \n",
    "    -Management  \n",
    "    -Professional  \n",
    "Gender (string): The customer's gender (for example, M for male, F for female, etc.)\n",
    "MaritalStatus (string): Whether the customer is married (M) or single (S).\n",
    "HomeOwnerFlag (integer): A Boolean flag indicating whether the customer owns their own home (1) or not (0).\n",
    "NumberCarsOwned (integer): The number of cars owned by the customer.\n",
    "NumberChildrenAtHome (integer): The number of children the customer has who live at home.\n",
    "TotalChildren (integer): The total number of children the customer has.\n",
    "YearlyIncome (decimal): The annual income of the customer.\n",
    "\n",
    "**AW_AveMonthSpend.csv**\n",
    "Sales data for existing customers, consisting of the following fields:\n",
    "\n",
    "CustomerID (integer): The unique identifier for the customer.\n",
    "AveMonthSpend (decimal): The amount of money the customer spends with Adventure Works Cycles on average each month.\n",
    "\n",
    "**AW_BikeBuyer.csv**\n",
    "Sales data for existing customers, consisting of the following fields:\n",
    "\n",
    "CustomerID (integer): The unique identifier for the customer.\n",
    "BikeBuyer (integer): A Boolean flag indicating whether a customer has previously purchased a bike (1) or not (0).\n"
   ]
  },
  {
   "cell_type": "code",
   "execution_count": null,
   "metadata": {},
   "outputs": [],
   "source": []
  },
  {
   "cell_type": "code",
   "execution_count": null,
   "metadata": {},
   "outputs": [],
   "source": []
  }
 ],
 "metadata": {
  "kernelspec": {
   "display_name": "Python 3",
   "language": "python",
   "name": "python3"
  },
  "language_info": {
   "codemirror_mode": {
    "name": "ipython",
    "version": 3
   },
   "file_extension": ".py",
   "mimetype": "text/x-python",
   "name": "python",
   "nbconvert_exporter": "python",
   "pygments_lexer": "ipython3",
   "version": "3.7.4"
  },
  "varInspector": {
   "cols": {
    "lenName": 16,
    "lenType": 16,
    "lenVar": 40
   },
   "kernels_config": {
    "python": {
     "delete_cmd_postfix": "",
     "delete_cmd_prefix": "del ",
     "library": "var_list.py",
     "varRefreshCmd": "print(var_dic_list())"
    },
    "r": {
     "delete_cmd_postfix": ") ",
     "delete_cmd_prefix": "rm(",
     "library": "var_list.r",
     "varRefreshCmd": "cat(var_dic_list()) "
    }
   },
   "types_to_exclude": [
    "module",
    "function",
    "builtin_function_or_method",
    "instance",
    "_Feature"
   ],
   "window_display": false
  }
 },
 "nbformat": 4,
 "nbformat_minor": 2
}
